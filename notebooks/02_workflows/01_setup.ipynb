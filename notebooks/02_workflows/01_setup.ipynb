{
 "cells": [
  {
   "cell_type": "markdown",
   "id": "1cc50204",
   "metadata": {},
   "source": [
    "# 01. Let's import necessary libraries"
   ]
  },
  {
   "cell_type": "code",
   "execution_count": null,
   "id": "848f2a87",
   "metadata": {},
   "outputs": [],
   "source": [
    "import os\n",
    "import shutil\n",
    "import warnings\n",
    "warnings.filterwarnings(\"ignore\")\n",
    "warnings.filterwarnings(\"ignore\", category=DeprecationWarning) \n",
    "import pandas as pd\n",
    "import numpy as np\n",
    "import matplotlib.pyplot as plt;\n",
    "import psutil\n",
    "\n",
    "import sys\n",
    "import pyemu\n",
    "import flopy\n",
    "import swatp_pst\n",
    "assert \"dependencies\" in flopy.__file__\n",
    "assert \"dependencies\" in pyemu.__file__\n",
    "assert \"dependencies\" in swatp_pst.__file__"
   ]
  },
  {
   "cell_type": "code",
   "execution_count": null,
   "id": "ee2bbe29-0dbd-4ced-87de-12af1c3ad22b",
   "metadata": {},
   "outputs": [],
   "source": [
    "swatp_pst.__version__"
   ]
  },
  {
   "cell_type": "markdown",
   "id": "3bd2a9ae",
   "metadata": {},
   "source": [
    "# 00. provide infos"
   ]
  },
  {
   "cell_type": "code",
   "execution_count": null,
   "id": "addce63c",
   "metadata": {},
   "outputs": [],
   "source": [
    "#working directory for mac\n",
    "prj_dir = \"//Users/seonggyu.park/Documents/projects\"\n",
    "swatp_wd = \"/Users/seonggyu.park/Documents/projects/TxtInOut\""
   ]
  },
  {
   "cell_type": "code",
   "execution_count": null,
   "id": "fe261d1a",
   "metadata": {},
   "outputs": [],
   "source": [
    "# working directory for win\n",
    "# prj_dir = \"D:\\\\jj\\\\opt_2nd\"\n",
    "# swatp_wd = \"D:\\\\spark\\\\jj\\\\TxtInOut_Imsil_rye_rot_r2\""
   ]
  },
  {
   "cell_type": "code",
   "execution_count": null,
   "id": "ede31bb9",
   "metadata": {},
   "outputs": [],
   "source": [
    "# calibration period\n",
    "cal_start = '1/1/2000'\n",
    "cal_end = '12/31/2001'\n",
    "# time step\n",
    "time_step = 'month'\n",
    "# locations (what our targets)\n",
    "chs = [106]\n",
    "grids = [26989]\n",
    "obd_file = \"stf_mon.obd.csv\"\n",
    "obd_colnam = \"cha106\"\n",
    "mfObdFile = \"gwl_day.obd.csv\"\n",
    "mfObdColnam = \"gwl26989\""
   ]
  },
  {
   "cell_type": "markdown",
   "id": "8c220242",
   "metadata": {},
   "source": [
    "# 01. inital setup"
   ]
  },
  {
   "cell_type": "code",
   "execution_count": null,
   "id": "8fa35c62-0721-43af-8283-45d4e8b3908f",
   "metadata": {},
   "outputs": [],
   "source": [
    "from swatp_pst import handler"
   ]
  },
  {
   "cell_type": "code",
   "execution_count": null,
   "id": "951f752d",
   "metadata": {},
   "outputs": [],
   "source": [
    "# copy all necessary files (exes) to your working direcotry\n",
    "handler.init_setup(prj_dir, swatp_wd)"
   ]
  },
  {
   "cell_type": "code",
   "execution_count": null,
   "id": "09007a5e-cba3-4238-aace-099dd1d8e6a4",
   "metadata": {},
   "outputs": [],
   "source": [
    "# create swatp_con file\n",
    "handler.create_swatp_pst_con(\n",
    "    prj_dir, swatp_wd, cal_start, cal_end, chs, grids, time_step=time_step)"
   ]
  },
  {
   "cell_type": "code",
   "execution_count": null,
   "id": "e7fdcc40",
   "metadata": {},
   "outputs": [],
   "source": [
    "os.getcwd()"
   ]
  },
  {
   "cell_type": "code",
   "execution_count": null,
   "id": "0b6e6a07",
   "metadata": {},
   "outputs": [],
   "source": [
    "wd = os.getcwd()"
   ]
  },
  {
   "cell_type": "markdown",
   "id": "ac4903cf-247a-4929-8e4f-14570fde674e",
   "metadata": {},
   "source": [
    "### Let's do initial run!"
   ]
  },
  {
   "cell_type": "code",
   "execution_count": null,
   "id": "020a5af8-2116-4529-94a2-a23242ddd501",
   "metadata": {},
   "outputs": [],
   "source": [
    "# you need to run the model first if outputs do not exit.\n",
    "# pyemu.os_utils.run(r\"swatplus.exe\", cwd=\".\")"
   ]
  },
  {
   "cell_type": "markdown",
   "id": "18db09eb",
   "metadata": {},
   "source": [
    "# 02. Build template files"
   ]
  },
  {
   "cell_type": "code",
   "execution_count": null,
   "id": "5c5148d0",
   "metadata": {},
   "outputs": [],
   "source": [
    "from swatp_pst.pst_utils import PstUtil"
   ]
  },
  {
   "cell_type": "code",
   "execution_count": null,
   "id": "a6e17645",
   "metadata": {},
   "outputs": [],
   "source": [
    "m1 = PstUtil(os.path.join(prj_dir, \"main_opt\"))"
   ]
  },
  {
   "cell_type": "code",
   "execution_count": null,
   "id": "9a8815bc",
   "metadata": {},
   "outputs": [],
   "source": [
    "m1.cal_to_tpl_file()"
   ]
  },
  {
   "cell_type": "code",
   "execution_count": null,
   "id": "d2a71cc1-6776-4323-9a36-f8c6f674ddfb",
   "metadata": {},
   "outputs": [],
   "source": [
    "m1.gw_input_to_tpl()"
   ]
  },
  {
   "cell_type": "markdown",
   "id": "8f0eb2b2",
   "metadata": {},
   "source": [
    "# 03. Build instruction files"
   ]
  },
  {
   "cell_type": "code",
   "execution_count": null,
   "id": "7c13ae4e",
   "metadata": {},
   "outputs": [],
   "source": [
    "# extract output first\n",
    "# m1 = SWATpOut(wd)\n",
    "m1.extract_mon_stf(chs, cal_start, cal_end)"
   ]
  },
  {
   "cell_type": "code",
   "execution_count": null,
   "id": "6be0eea9-f46f-4e77-89fd-9c8d355d0c21",
   "metadata": {},
   "outputs": [],
   "source": [
    "m1.stf_obd_to_ins?"
   ]
  },
  {
   "cell_type": "code",
   "execution_count": null,
   "id": "c847e22c-a5a6-4bc0-9912-bab4f5ecb309",
   "metadata": {},
   "outputs": [],
   "source": [
    "m1.stf_obd_to_ins('stf_106.txt', obd_file, obd_colnam, cal_start, cal_end)"
   ]
  },
  {
   "cell_type": "code",
   "execution_count": null,
   "id": "a736589d-ef17-497b-a89f-7cefb9aab2b5",
   "metadata": {},
   "outputs": [],
   "source": []
  },
  {
   "cell_type": "code",
   "execution_count": null,
   "id": "2439ccf0",
   "metadata": {
    "scrolled": true
   },
   "outputs": [],
   "source": [
    "\n",
    "m1.mf_obd_to_ins(\"gwl_26989.txt\", mfObdColnam, cal_start, cal_end)"
   ]
  },
  {
   "cell_type": "markdown",
   "id": "ff674ea0",
   "metadata": {},
   "source": [
    "# 04. Create PEST control file"
   ]
  },
  {
   "cell_type": "code",
   "execution_count": null,
   "id": "0325592b",
   "metadata": {},
   "outputs": [],
   "source": [
    "os.getcwd()"
   ]
  },
  {
   "cell_type": "code",
   "execution_count": null,
   "id": "61efa9f4",
   "metadata": {},
   "outputs": [],
   "source": [
    "io_files = pyemu.helpers.parse_dir_for_io_files('.')\n",
    "pst = pyemu.Pst.from_io_files(*io_files)"
   ]
  },
  {
   "cell_type": "code",
   "execution_count": null,
   "id": "db69059b",
   "metadata": {},
   "outputs": [],
   "source": [
    "par = pst.parameter_data\n",
    "par"
   ]
  },
  {
   "cell_type": "code",
   "execution_count": null,
   "id": "a6fccdf8-55c0-4e50-ab1c-3061881456f7",
   "metadata": {},
   "outputs": [],
   "source": [
    "obd = pst.observation_data\n",
    "obd"
   ]
  },
  {
   "cell_type": "markdown",
   "id": "19afbee2",
   "metadata": {},
   "source": [
    "## 05.02 Adjust initial parameter values and their ranges"
   ]
  },
  {
   "cell_type": "code",
   "execution_count": null,
   "id": "5a951270",
   "metadata": {},
   "outputs": [],
   "source": [
    "par = pst.parameter_data"
   ]
  },
  {
   "cell_type": "code",
   "execution_count": null,
   "id": "0772d602",
   "metadata": {},
   "outputs": [],
   "source": [
    "par"
   ]
  },
  {
   "cell_type": "markdown",
   "id": "6d487bbc",
   "metadata": {},
   "source": [
    "## 05.03 Assign parameter group name"
   ]
  },
  {
   "cell_type": "code",
   "execution_count": null,
   "id": "22b93418",
   "metadata": {},
   "outputs": [],
   "source": [
    "# set observation group\n",
    "obd = pst.observation_data\n",
    "obd"
   ]
  },
  {
   "cell_type": "code",
   "execution_count": null,
   "id": "78f4acaf",
   "metadata": {},
   "outputs": [],
   "source": [
    "# Change obd group name\n",
    "for i in range(len(obd)):\n",
    "    obd.iloc[i, 3] = obd.iloc[i, 0][:-9]\n",
    "obd"
   ]
  },
  {
   "cell_type": "markdown",
   "id": "9c68a859",
   "metadata": {},
   "source": [
    "## 05.04 Provide actual observed values to control file"
   ]
  },
  {
   "cell_type": "code",
   "execution_count": null,
   "id": "6927bc39-c78c-4027-8b05-b4ee17658093",
   "metadata": {},
   "outputs": [],
   "source": [
    "os.getcwd()"
   ]
  },
  {
   "cell_type": "code",
   "execution_count": null,
   "id": "ac9f8086",
   "metadata": {
    "scrolled": true
   },
   "outputs": [],
   "source": [
    "# Streamflow\n",
    "stf_obd = pd.read_csv(obd_file,\n",
    "                       index_col = 0,\n",
    "                       parse_dates = True,\n",
    "                       na_values=[-999, '']\n",
    "                     )\n",
    "stf_obd = stf_obd[cal_start: cal_end]\n",
    "stf_obd"
   ]
  },
  {
   "cell_type": "code",
   "execution_count": null,
   "id": "a82f3d6c-4a15-4b26-9f46-59bcefb78aff",
   "metadata": {},
   "outputs": [],
   "source": [
    "# groundwater level\n",
    "gwl_obd = pd.read_csv(mfObdFile,\n",
    "                       index_col = 0,\n",
    "                       parse_dates = True,\n",
    "                       na_values=[-999, '']\n",
    "                     )\n",
    "gwl_obd = gwl_obd[cal_start: cal_end]\n",
    "gwl_obd"
   ]
  },
  {
   "cell_type": "code",
   "execution_count": null,
   "id": "519bf837",
   "metadata": {},
   "outputs": [],
   "source": [
    "# Get sub list based on obd order\n",
    "obd_order = []\n",
    "for i in obd.obgnme.tolist():\n",
    "    if i not in obd_order:\n",
    "        obd_order.append(i)\n",
    "obd_order"
   ]
  },
  {
   "cell_type": "code",
   "execution_count": null,
   "id": "46c66988-3a67-46f2-b059-1d62b4f8ea7e",
   "metadata": {},
   "outputs": [],
   "source": [
    "tot_obd = []"
   ]
  },
  {
   "cell_type": "code",
   "execution_count": null,
   "id": "883af98d",
   "metadata": {},
   "outputs": [],
   "source": [
    "# get total list from each sub obd, delete na vals\n",
    "tot_obd = []\n",
    "for i in obd_order[:1]:\n",
    "    tot_obd += stf_obd[i].dropna().tolist()\n",
    "    print(i)\n",
    "for i in obd_order[1:]:\n",
    "    tot_obd += gwl_obd[i].dropna().tolist()\n",
    "    print(i)\n",
    "len(tot_obd)"
   ]
  },
  {
   "cell_type": "code",
   "execution_count": null,
   "id": "26b0c27a-79d2-4ca9-83c1-29310007799b",
   "metadata": {},
   "outputs": [],
   "source": [
    "tot_obd"
   ]
  },
  {
   "cell_type": "code",
   "execution_count": null,
   "id": "41d4fde8",
   "metadata": {},
   "outputs": [],
   "source": [
    "obd.loc[:, 'obsval'] = tot_obd\n",
    "obd"
   ]
  },
  {
   "cell_type": "markdown",
   "id": "617e031f",
   "metadata": {},
   "source": [
    "# 06. Create the control file with settings"
   ]
  },
  {
   "cell_type": "markdown",
   "id": "a1da8190-0fd6-4556-b799-50f5b2f06193",
   "metadata": {},
   "source": [
    "We can inspect all control data values using the `pst.control_data.formatted_values` attribute. Values are assigned defaults if not specified. Nice.:"
   ]
  },
  {
   "cell_type": "code",
   "execution_count": null,
   "id": "a41cc3a0-c66c-49df-954c-8a9696322347",
   "metadata": {},
   "outputs": [],
   "source": [
    "pst.control_data.formatted_values"
   ]
  },
  {
   "cell_type": "code",
   "execution_count": null,
   "id": "e91330b7",
   "metadata": {},
   "outputs": [],
   "source": [
    "pst.control_data.noptmax = 0 # replace 0 with \"zero\" and see what happens\n",
    "pst.model_command = 'python forward_run.py'"
   ]
  },
  {
   "cell_type": "markdown",
   "id": "ea292069-80e8-453b-9459-c2556d513358",
   "metadata": {},
   "source": [
    "- ### add new PEST++ variables like so:"
   ]
  },
  {
   "cell_type": "code",
   "execution_count": null,
   "id": "1fd0fb95-3fb9-4fcc-8f34-283414f91446",
   "metadata": {},
   "outputs": [],
   "source": [
    "# check the dictionary again\n",
    "pst.pestpp_options"
   ]
  },
  {
   "cell_type": "code",
   "execution_count": null,
   "id": "fcc3a4cd",
   "metadata": {},
   "outputs": [],
   "source": [
    "pst.write('swatp_dummy.pst', version=2)"
   ]
  },
  {
   "cell_type": "markdown",
   "id": "d7994e0f-c25e-41ec-89a6-ce3e64f3f719",
   "metadata": {},
   "source": [
    "- ### You can also read and load the existing pest control file."
   ]
  },
  {
   "cell_type": "code",
   "execution_count": null,
   "id": "3ea71e6d-76b1-4279-805f-0f2adfdeeddc",
   "metadata": {},
   "outputs": [],
   "source": [
    "# pst_read = pyemu.Pst(os.path.join(swatmf_model,\"mb_zon.pst\"))"
   ]
  },
  {
   "cell_type": "code",
   "execution_count": null,
   "id": "b20d8ef8-5bc0-4273-a3d9-1bb05635752b",
   "metadata": {},
   "outputs": [],
   "source": [
    "# epst_read.parameter_data"
   ]
  },
  {
   "cell_type": "code",
   "execution_count": null,
   "id": "c2feeeee-d88a-4003-89aa-3825ec0d1aa1",
   "metadata": {},
   "outputs": [],
   "source": []
  }
 ],
 "metadata": {
  "kernelspec": {
   "display_name": "Python 3 (ipykernel)",
   "language": "python",
   "name": "python3"
  },
  "language_info": {
   "codemirror_mode": {
    "name": "ipython",
    "version": 3
   },
   "file_extension": ".py",
   "mimetype": "text/x-python",
   "name": "python",
   "nbconvert_exporter": "python",
   "pygments_lexer": "ipython3",
   "version": "3.13.5"
  }
 },
 "nbformat": 4,
 "nbformat_minor": 5
}

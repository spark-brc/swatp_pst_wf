{
 "cells": [
  {
   "cell_type": "markdown",
   "metadata": {},
   "source": [
    "# Run PEST and Parallel PEST\n",
    "### This should be super easy ~"
   ]
  },
  {
   "cell_type": "code",
   "execution_count": null,
   "metadata": {},
   "outputs": [],
   "source": [
    "import os\n",
    "import shutil\n",
    "import warnings\n",
    "warnings.filterwarnings(\"ignore\")\n",
    "warnings.filterwarnings(\"ignore\", category=DeprecationWarning) \n",
    "import pandas as pd\n",
    "import numpy as np\n",
    "import matplotlib.pyplot as plt;\n",
    "import psutil\n",
    "import sys\n",
    "import pyemu\n",
    "import swatp_pst\n",
    "assert \"dependencies\" in pyemu.__file__\n",
    "assert \"dependencies\" in swatp_pst.__file__"
   ]
  },
  {
   "cell_type": "markdown",
   "metadata": {},
   "source": [
    "# 01. Specify a path to the model folder"
   ]
  },
  {
   "cell_type": "code",
   "execution_count": null,
   "metadata": {},
   "outputs": [],
   "source": [
    "# path to project directory\n",
    "prj_dir = \"C:\\\\Users\\\\seonggyu.park\\\\Documents\\\\swatp_gwflow_opt\"\n",
    "# prj_dir = \"/Users/seonggyu.park/Documents/projects/jj\" #mac"
   ]
  },
  {
   "cell_type": "code",
   "execution_count": null,
   "metadata": {},
   "outputs": [],
   "source": [
    "main_opt_path = os.path.join(prj_dir, 'main_opt')\n",
    "os.chdir(main_opt_path)"
   ]
  },
  {
   "cell_type": "code",
   "execution_count": null,
   "metadata": {},
   "outputs": [],
   "source": [
    "os.getcwd()"
   ]
  },
  {
   "cell_type": "markdown",
   "metadata": {},
   "source": [
    "# 02. Initial run for adjusting weights"
   ]
  },
  {
   "cell_type": "code",
   "execution_count": null,
   "metadata": {},
   "outputs": [],
   "source": [
    "# PEST control file name\n",
    "pst_name = \"swatp_dummy.pst\""
   ]
  },
  {
   "cell_type": "code",
   "execution_count": null,
   "metadata": {
    "scrolled": true
   },
   "outputs": [],
   "source": [
    "# initial run\n",
    "# pyemu.os_utils.run(f'pestpp-glm.exe {pst_name}' , cwd=\".\")"
   ]
  },
  {
   "cell_type": "markdown",
   "metadata": {},
   "source": [
    "## 02-01 Change weights to make all of observation data visible "
   ]
  },
  {
   "cell_type": "code",
   "execution_count": null,
   "metadata": {},
   "outputs": [],
   "source": [
    "# reweight\n",
    "pst = pyemu.Pst(pst_name)\n",
    "pst.phi"
   ]
  },
  {
   "cell_type": "code",
   "execution_count": null,
   "metadata": {},
   "outputs": [],
   "source": [
    "# you can assign any values to balanced phi value for each group\n",
    "balanced_groups = {grp:1000 for grp in pst.nnz_obs_groups}\n",
    "pst.adjust_weights(obsgrp_dict=balanced_groups)"
   ]
  },
  {
   "cell_type": "code",
   "execution_count": null,
   "metadata": {},
   "outputs": [],
   "source": [
    "pst_rw = \"swatp_rw.pst\""
   ]
  },
  {
   "cell_type": "code",
   "execution_count": null,
   "metadata": {},
   "outputs": [],
   "source": [
    "# Let's create a new control file with the number of iterations set to 30 and incorporate reweighted factors.\n",
    "pst.control_data.noptmax = 0\n",
    "pst.write(os.path.join(main_opt_path, f'{pst_rw}'), version=2)"
   ]
  },
  {
   "cell_type": "code",
   "execution_count": null,
   "metadata": {},
   "outputs": [],
   "source": [
    "# pyemu.os_utils.run(f'pestpp-glm.exe {pst_rw}' , cwd=\".\")"
   ]
  },
  {
   "cell_type": "markdown",
   "metadata": {},
   "source": [
    "# 03. Perform uncertainty analysis with IES"
   ]
  },
  {
   "cell_type": "code",
   "execution_count": null,
   "metadata": {},
   "outputs": [],
   "source": [
    "# check the number of available cores\n",
    "num_workers = psutil.cpu_count(logical=False)\n",
    "num_workers"
   ]
  },
  {
   "cell_type": "code",
   "execution_count": null,
   "metadata": {},
   "outputs": [],
   "source": [
    "main_opt_path"
   ]
  },
  {
   "cell_type": "code",
   "execution_count": null,
   "metadata": {},
   "outputs": [],
   "source": [
    "pst_nam_ies = \"swatp_rw_ies.pst\""
   ]
  },
  {
   "cell_type": "code",
   "execution_count": null,
   "metadata": {},
   "outputs": [],
   "source": [
    "pst_ies = pyemu.Pst(os.path.join(main_opt_path, f\"{pst_rw}\"))\n",
    "# set IES\n",
    "pst_ies.pestpp_options['ies_num_reals'] = 50 # number of realization\n",
    "pst_ies.control_data.noptmax = 5 # number of iteration\n",
    "pst_ies.write(f'{pst_nam_ies}', version=2) # write new IES control file"
   ]
  },
  {
   "cell_type": "code",
   "execution_count": null,
   "metadata": {},
   "outputs": [],
   "source": [
    "# set a path to the main directory of model\n",
    "m_d = os.path.join(prj_dir, \"swatp_rw_ies\")"
   ]
  },
  {
   "cell_type": "code",
   "execution_count": null,
   "metadata": {},
   "outputs": [],
   "source": [
    "m_d"
   ]
  },
  {
   "cell_type": "code",
   "execution_count": null,
   "metadata": {},
   "outputs": [],
   "source": [
    "main_opt_path"
   ]
  },
  {
   "cell_type": "code",
   "execution_count": null,
   "metadata": {},
   "outputs": [],
   "source": [
    "prj_dir"
   ]
  },
  {
   "cell_type": "code",
   "execution_count": null,
   "metadata": {},
   "outputs": [],
   "source": [
    "os.chdir(prj_dir) # move the loction to project directory\n",
    "# run PEST in parallel\n",
    "pyemu.os_utils.start_workers(\n",
    "                            main_opt_path, # the folder which contains the \"template\" PEST dataset\n",
    "                            \"pestpp-ies\", #the PEST software version we want to run\n",
    "                            f'{pst_nam_ies}', # the control file to use with PEST\n",
    "                            num_workers=num_workers, #how many agents to deploy\n",
    "                            worker_root='.', #where to deploy the agent directories; relative to where python is running\n",
    "                            master_dir=m_d, #the manager directory,\n",
    "                            # reuse_master=True\n",
    "                            )"
   ]
  },
  {
   "cell_type": "markdown",
   "metadata": {},
   "source": [
    "# 03. Let's see how we did:"
   ]
  },
  {
   "cell_type": "code",
   "execution_count": null,
   "metadata": {},
   "outputs": [],
   "source": [
    "from swatp_pst import analyzer\n",
    "import pyemu\n",
    "import os\n",
    "import matplotlib.pyplot as plt\n",
    "import numpy as np\n",
    "import pandas as pd"
   ]
  },
  {
   "cell_type": "code",
   "execution_count": null,
   "metadata": {},
   "outputs": [],
   "source": [
    "# m_d = 'D:\\\\spark\\\\Albufera\\\\opt01\\\\alb_rw_ies02'"
   ]
  },
  {
   "cell_type": "code",
   "execution_count": null,
   "metadata": {},
   "outputs": [],
   "source": [
    "pst_file = pst_nam_ies\n",
    "pst = pyemu.Pst(os.path.join(m_d, pst_file))"
   ]
  },
  {
   "cell_type": "markdown",
   "metadata": {},
   "source": [
    "### 03.01 phi progress"
   ]
  },
  {
   "cell_type": "code",
   "execution_count": null,
   "metadata": {},
   "outputs": [],
   "source": [
    "pst.phi"
   ]
  },
  {
   "cell_type": "code",
   "execution_count": null,
   "metadata": {},
   "outputs": [],
   "source": [
    "# plot phi progress\n",
    "# pyemu.plot_utils.phi_progress(pst)"
   ]
  },
  {
   "cell_type": "code",
   "execution_count": null,
   "metadata": {},
   "outputs": [],
   "source": [
    "pst_file = pst_nam_ies\n",
    "pst = pyemu.Pst(os.path.join(m_d, pst_file))"
   ]
  },
  {
   "cell_type": "code",
   "execution_count": null,
   "metadata": {},
   "outputs": [],
   "source": [
    "pst_nam_ies[:-4]"
   ]
  },
  {
   "cell_type": "code",
   "execution_count": null,
   "metadata": {},
   "outputs": [],
   "source": [
    "f\"{pst_nam_ies[:-4]}.0.obs.csv\""
   ]
  },
  {
   "cell_type": "code",
   "execution_count": null,
   "metadata": {},
   "outputs": [],
   "source": [
    "f\"{pst_nam_ies[:-4]}{0}.obs.csv\".format(4)"
   ]
  },
  {
   "cell_type": "code",
   "execution_count": null,
   "metadata": {},
   "outputs": [],
   "source": [
    "# load prior simulation\n",
    "pr_oe = pyemu.ObservationEnsemble.from_csv(\n",
    "    pst=pst,filename=os.path.join(m_d,f\"{pst_nam_ies[:-4]}.0.obs.csv\")\n",
    "    )\n",
    "# load posterior simulation\n",
    "pt_oe = pyemu.ObservationEnsemble.from_csv(\n",
    "    pst=pst,\n",
    "    filename=os.path.join(m_d,f\"{pst_nam_ies[:-4]}.{4}.obs.csv\")\n",
    "    )"
   ]
  },
  {
   "cell_type": "code",
   "execution_count": null,
   "metadata": {},
   "outputs": [],
   "source": [
    "pt_oe"
   ]
  },
  {
   "cell_type": "markdown",
   "metadata": {},
   "source": [
    "## 03.02 Predictive uncertainty"
   ]
  },
  {
   "cell_type": "code",
   "execution_count": null,
   "metadata": {},
   "outputs": [],
   "source": [
    "analyzer.single_plot_tseries_ensembles_plots_added(\n",
    "    pst, pr_oe, pt_oe, width=10, height=5, dot=False,\n",
    "    # bstcs=[\"56\", \"171\"], \n",
    "    # orgsim=org_sim\n",
    ")"
   ]
  },
  {
   "cell_type": "markdown",
   "metadata": {},
   "source": [
    "## 03.03 Parameter uncertainty"
   ]
  },
  {
   "cell_type": "code",
   "execution_count": null,
   "metadata": {},
   "outputs": [],
   "source": [
    "prior_df = pyemu.ParameterEnsemble.from_csv(\n",
    "    pst=pst,filename=os.path.join(m_d,\"swatp_rw_ies.{0}.par.csv\".format(0)))\n",
    "post_df = pyemu.ParameterEnsemble.from_csv(\n",
    "    pst=pst,filename=os.path.join(m_d,\"swatp_rw_ies.{0}.par.csv\".format(4)))"
   ]
  },
  {
   "cell_type": "code",
   "execution_count": null,
   "metadata": {},
   "outputs": [],
   "source": [
    "df_pars = pd.read_csv(os.path.join(m_d, \"swatp_rw_ies.par_data.csv\"))\n",
    "sel_pars = df_pars.loc[df_pars[\"partrans\"]=='log']\n",
    "sel_pars"
   ]
  },
  {
   "cell_type": "code",
   "execution_count": null,
   "metadata": {},
   "outputs": [],
   "source": [
    "analyzer.plot_prior_posterior_par_hist(m_d, pst, prior_df, post_df, sel_pars, height=7)"
   ]
  },
  {
   "cell_type": "markdown",
   "metadata": {},
   "source": [
    "# 04 updates the model input files with parameter values"
   ]
  },
  {
   "cell_type": "code",
   "execution_count": null,
   "metadata": {},
   "outputs": [],
   "source": [
    "# m_d = \"D:\\\\jj\\\\opt_3rd\\\\calibrated\"\n",
    "# pst_file = \"alb_rw_ies.pst\"\n",
    "# pst = pyemu.Pst(os.path.join(m_d, pst_file))"
   ]
  },
  {
   "cell_type": "code",
   "execution_count": null,
   "metadata": {},
   "outputs": [],
   "source": [
    "# pst.parrep(parfile=os.path.join(m_d, \"alb_rw_ies.{0}.base.par\".format(\"final\")))\n",
    "# # updates the model input files with parameter values\n",
    "# pst.write_input_files(pst_path=m_d)\n",
    "# # run the model forward run; this applies all the SWAT+ paarameters, executes SWAT+ \n",
    "# os.chdir(m_d)\n",
    "# pyemu.os_utils.run('python forward_run.py')"
   ]
  },
  {
   "cell_type": "code",
   "execution_count": null,
   "metadata": {},
   "outputs": [],
   "source": [
    "# pyemu.os_utils.run(\"python forward_run.py\",cwd=m_d)"
   ]
  }
 ],
 "metadata": {
  "kernelspec": {
   "display_name": "Python 3 (ipykernel)",
   "language": "python",
   "name": "python3"
  },
  "language_info": {
   "codemirror_mode": {
    "name": "ipython",
    "version": 3
   },
   "file_extension": ".py",
   "mimetype": "text/x-python",
   "name": "python",
   "nbconvert_exporter": "python",
   "pygments_lexer": "ipython3",
   "version": "3.13.5"
  }
 },
 "nbformat": 4,
 "nbformat_minor": 4
}

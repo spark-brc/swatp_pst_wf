{
 "cells": [
  {
   "cell_type": "markdown",
   "metadata": {},
   "source": [
    "# Run PEST and Parallel PEST\n",
    "### This should be super easy ~"
   ]
  },
  {
   "cell_type": "code",
   "execution_count": 1,
   "metadata": {},
   "outputs": [],
   "source": [
    "import os\n",
    "import shutil\n",
    "import warnings\n",
    "warnings.filterwarnings(\"ignore\")\n",
    "warnings.filterwarnings(\"ignore\", category=DeprecationWarning) \n",
    "import pandas as pd\n",
    "import numpy as np\n",
    "import matplotlib.pyplot as plt;\n",
    "import psutil\n",
    "import sys\n",
    "import pyemu\n",
    "import swatp_pst\n",
    "assert \"dependencies\" in pyemu.__file__\n",
    "assert \"dependencies\" in swatp_pst.__file__"
   ]
  },
  {
   "cell_type": "markdown",
   "metadata": {},
   "source": [
    "# 01. Specify a path to the model folder"
   ]
  },
  {
   "cell_type": "code",
   "execution_count": 2,
   "metadata": {},
   "outputs": [],
   "source": [
    "# path to project directory\n",
    "prj_dir = \"C:\\\\Mac\\\\Home\\\\Documents\\\\projects\" # win\n",
    "# prj_dir = \"/Users/seonggyu.park/Documents/projects/jj\" #mac"
   ]
  },
  {
   "cell_type": "code",
   "execution_count": 3,
   "metadata": {},
   "outputs": [],
   "source": [
    "main_opt_path = os.path.join(prj_dir, 'main_opt')\n",
    "os.chdir(main_opt_path)"
   ]
  },
  {
   "cell_type": "code",
   "execution_count": 4,
   "metadata": {},
   "outputs": [
    {
     "data": {
      "text/plain": [
       "'C:\\\\Mac\\\\Home\\\\Documents\\\\projects\\\\main_opt'"
      ]
     },
     "execution_count": 4,
     "metadata": {},
     "output_type": "execute_result"
    }
   ],
   "source": [
    "os.getcwd()"
   ]
  },
  {
   "cell_type": "markdown",
   "metadata": {},
   "source": [
    "# 02. Initial run for adjusting weights"
   ]
  },
  {
   "cell_type": "code",
   "execution_count": 5,
   "metadata": {},
   "outputs": [],
   "source": [
    "# PEST control file name\n",
    "pst_name = \"swatp_dummy.pst\""
   ]
  },
  {
   "cell_type": "code",
   "execution_count": 14,
   "metadata": {
    "scrolled": true
   },
   "outputs": [
    {
     "name": "stdout",
     "output_type": "stream",
     "text": [
      "pestpp-glm.exe swatp_dummy.pst\n"
     ]
    }
   ],
   "source": [
    "# initial run\n",
    "pyemu.os_utils.run(f'pestpp-glm.exe {pst_name}' , cwd=\".\")"
   ]
  },
  {
   "cell_type": "markdown",
   "metadata": {},
   "source": [
    "## 02-01 Change weights to make all of observation data visible "
   ]
  },
  {
   "cell_type": "code",
   "execution_count": 15,
   "metadata": {},
   "outputs": [
    {
     "data": {
      "text/plain": [
       "np.float64(100956.33226360545)"
      ]
     },
     "execution_count": 15,
     "metadata": {},
     "output_type": "execute_result"
    }
   ],
   "source": [
    "# reweight\n",
    "pst = pyemu.Pst(pst_name)\n",
    "pst.phi"
   ]
  },
  {
   "cell_type": "code",
   "execution_count": 17,
   "metadata": {},
   "outputs": [],
   "source": [
    "# you can assign any values to balanced phi value for each group\n",
    "balanced_groups = {grp:1000 for grp in pst.nnz_obs_groups}\n",
    "pst.adjust_weights(obsgrp_dict=balanced_groups)"
   ]
  },
  {
   "cell_type": "code",
   "execution_count": 25,
   "metadata": {},
   "outputs": [],
   "source": [
    "pst_rw = \"swatp_rw.pst\""
   ]
  },
  {
   "cell_type": "code",
   "execution_count": 26,
   "metadata": {},
   "outputs": [
    {
     "name": "stdout",
     "output_type": "stream",
     "text": [
      "noptmax:0, npar_adj:201, nnz_obs:755\n"
     ]
    }
   ],
   "source": [
    "# Let's create a new control file with the number of iterations set to 30 and incorporate reweighted factors.\n",
    "pst.control_data.noptmax = 0\n",
    "pst.write(os.path.join(main_opt_path, f'{pst_rw}'), version=2)"
   ]
  },
  {
   "cell_type": "code",
   "execution_count": 27,
   "metadata": {},
   "outputs": [
    {
     "name": "stdout",
     "output_type": "stream",
     "text": [
      "pestpp-glm.exe swatp_rw.pst\n"
     ]
    }
   ],
   "source": [
    "pyemu.os_utils.run(f'pestpp-glm.exe {pst_rw}' , cwd=\".\")"
   ]
  },
  {
   "cell_type": "markdown",
   "metadata": {},
   "source": [
    "# 03. Perform uncertainty analysis with IES"
   ]
  },
  {
   "cell_type": "code",
   "execution_count": 21,
   "metadata": {},
   "outputs": [
    {
     "data": {
      "text/plain": [
       "4"
      ]
     },
     "execution_count": 21,
     "metadata": {},
     "output_type": "execute_result"
    }
   ],
   "source": [
    "# check the number of available cores\n",
    "num_workers = psutil.cpu_count(logical=False)\n",
    "num_workers"
   ]
  },
  {
   "cell_type": "code",
   "execution_count": 22,
   "metadata": {},
   "outputs": [
    {
     "data": {
      "text/plain": [
       "'C:\\\\Mac\\\\Home\\\\Documents\\\\projects\\\\main_opt'"
      ]
     },
     "execution_count": 22,
     "metadata": {},
     "output_type": "execute_result"
    }
   ],
   "source": [
    "main_opt_path"
   ]
  },
  {
   "cell_type": "code",
   "execution_count": 28,
   "metadata": {},
   "outputs": [],
   "source": [
    "pst_nam_ies = \"swatp_rw_ies.pst\""
   ]
  },
  {
   "cell_type": "code",
   "execution_count": 21,
   "metadata": {},
   "outputs": [
    {
     "name": "stdout",
     "output_type": "stream",
     "text": [
      "noptmax:15, npar_adj:13, nnz_obs:167\n"
     ]
    }
   ],
   "source": [
    "pst_ies = pyemu.Pst(os.path.join(main_opt_path, f\"{pst_rw}\"))\n",
    "# set IES\n",
    "pst_ies.pestpp_options['ies_num_reals'] = 200 # number of realization\n",
    "pst_ies.control_data.noptmax = 15 # number of iteration\n",
    "pst_ies.write(f'{pst_nam_ies}', version=2) # write new IES control file"
   ]
  },
  {
   "cell_type": "code",
   "execution_count": 22,
   "metadata": {},
   "outputs": [],
   "source": [
    "# set a path to the main directory of model\n",
    "m_d = os.path.join(prj_dir, \"swatp_rw_ies\")"
   ]
  },
  {
   "cell_type": "code",
   "execution_count": 23,
   "metadata": {},
   "outputs": [
    {
     "data": {
      "text/plain": [
       "'D:\\\\spark\\\\Albufera\\\\opt01\\\\alb_rw_ies'"
      ]
     },
     "execution_count": 23,
     "metadata": {},
     "output_type": "execute_result"
    }
   ],
   "source": [
    "m_d"
   ]
  },
  {
   "cell_type": "code",
   "execution_count": 25,
   "metadata": {},
   "outputs": [
    {
     "data": {
      "text/plain": [
       "'D:\\\\spark\\\\Albufera\\\\opt01\\\\main_opt'"
      ]
     },
     "execution_count": 25,
     "metadata": {},
     "output_type": "execute_result"
    }
   ],
   "source": [
    "main_opt_path"
   ]
  },
  {
   "cell_type": "code",
   "execution_count": 24,
   "metadata": {},
   "outputs": [
    {
     "data": {
      "text/plain": [
       "'D:\\\\spark\\\\Albufera\\\\opt01'"
      ]
     },
     "execution_count": 24,
     "metadata": {},
     "output_type": "execute_result"
    }
   ],
   "source": [
    "prj_dir"
   ]
  },
  {
   "cell_type": "code",
   "execution_count": 27,
   "metadata": {
    "scrolled": true
   },
   "outputs": [],
   "source": [
    "os.chdir(prj_dir) # move the loction to project directory\n",
    "# run PEST in parallel\n",
    "pyemu.os_utils.start_workers(\n",
    "                            main_opt_path, # the folder which contains the \"template\" PEST dataset\n",
    "                            \"pestpp-ies\", #the PEST software version we want to run\n",
    "                            f'{pst_nam_ies}', # the control file to use with PEST\n",
    "                            num_workers=num_workers, #how many agents to deploy\n",
    "                            worker_root='.', #where to deploy the agent directories; relative to where python is running\n",
    "                            master_dir=m_d, #the manager directory,\n",
    "                            # reuse_master=True\n",
    "                            )"
   ]
  },
  {
   "cell_type": "markdown",
   "metadata": {},
   "source": [
    "# 03. Let's see how we did:"
   ]
  },
  {
   "cell_type": "code",
   "execution_count": 1,
   "metadata": {},
   "outputs": [
    {
     "name": "stderr",
     "output_type": "stream",
     "text": [
      "D:\\spark\\spark_gits\\swatp_pst_wf\\dependencies\\pyemu\\pyemu\\__init__.py:29: UserWarning: Failed to import legacy module. May impact ability to access older methods.ModuleNotFoundError No module named 'flopy'\n"
     ]
    }
   ],
   "source": [
    "from swatp_pst import analyzer\n",
    "import pyemu\n",
    "import os\n",
    "import matplotlib.pyplot as plt\n",
    "import numpy as np\n",
    "import pandas as pd"
   ]
  },
  {
   "cell_type": "code",
   "execution_count": 2,
   "metadata": {},
   "outputs": [],
   "source": [
    "m_d = 'D:\\\\spark\\\\Albufera\\\\opt01\\\\alb_rw_ies02'"
   ]
  },
  {
   "cell_type": "code",
   "execution_count": 3,
   "metadata": {},
   "outputs": [],
   "source": [
    "pst_file = \"alb_rw_ies.pst\"\n",
    "pst = pyemu.Pst(os.path.join(m_d, pst_file))"
   ]
  },
  {
   "cell_type": "markdown",
   "metadata": {},
   "source": [
    "### 03.01 phi progress"
   ]
  },
  {
   "cell_type": "code",
   "execution_count": null,
   "metadata": {},
   "outputs": [],
   "source": [
    "pst.phi"
   ]
  },
  {
   "cell_type": "code",
   "execution_count": 33,
   "metadata": {},
   "outputs": [],
   "source": [
    "# plot phi progress\n",
    "# pyemu.plot_utils.phi_progress(pst)"
   ]
  },
  {
   "cell_type": "code",
   "execution_count": 5,
   "metadata": {},
   "outputs": [],
   "source": [
    "pst_file = \"alb_rw_ies.pst\"\n",
    "pst = pyemu.Pst(os.path.join(m_d, pst_file))"
   ]
  },
  {
   "cell_type": "code",
   "execution_count": 6,
   "metadata": {},
   "outputs": [],
   "source": [
    "# load prior simulation\n",
    "pr_oe = pyemu.ObservationEnsemble.from_csv(\n",
    "    pst=pst,filename=os.path.join(m_d,\"alb_rw_ies.0.obs.csv\")\n",
    "    )\n",
    "# load posterior simulation\n",
    "pt_oe = pyemu.ObservationEnsemble.from_csv(\n",
    "    pst=pst,\n",
    "    filename=os.path.join(m_d,\"alb_rw_ies.{0}.obs.csv\".format(8))\n",
    "    )"
   ]
  },
  {
   "cell_type": "code",
   "execution_count": 7,
   "metadata": {},
   "outputs": [
    {
     "name": "stdout",
     "output_type": "stream",
     "text": [
      "return type uncaught, losing Ensemble type, returning DataFrame\n"
     ]
    },
    {
     "name": "stderr",
     "output_type": "stream",
     "text": [
      "D:\\spark\\spark_gits\\swatp_pst_wf\\dependencies\\pyemu\\pyemu\\en.py:227: PyemuWarning: return type uncaught, losing Ensemble type, returning DataFrame\n"
     ]
    },
    {
     "data": {
      "text/html": [
       "<div>\n",
       "<style scoped>\n",
       "    .dataframe tbody tr th:only-of-type {\n",
       "        vertical-align: middle;\n",
       "    }\n",
       "\n",
       "    .dataframe tbody tr th {\n",
       "        vertical-align: top;\n",
       "    }\n",
       "\n",
       "    .dataframe thead th {\n",
       "        text-align: right;\n",
       "    }\n",
       "</style>\n",
       "<table border=\"1\" class=\"dataframe\">\n",
       "  <thead>\n",
       "    <tr style=\"text-align: right;\">\n",
       "      <th></th>\n",
       "      <th>cha049_20170511</th>\n",
       "      <th>cha049_20170512</th>\n",
       "      <th>cha049_20170513</th>\n",
       "      <th>cha049_20170514</th>\n",
       "      <th>cha049_20170515</th>\n",
       "      <th>cha049_20170516</th>\n",
       "      <th>cha049_20170517</th>\n",
       "      <th>cha049_20170518</th>\n",
       "      <th>cha049_20170519</th>\n",
       "      <th>cha049_20170520</th>\n",
       "      <th>...</th>\n",
       "      <th>obd_irr_paddy_20220531</th>\n",
       "      <th>obd_irr_paddy_20220630</th>\n",
       "      <th>obd_irr_paddy_20220731</th>\n",
       "      <th>obd_irr_paddy_20220831</th>\n",
       "      <th>obd_irr_paddy_20220930</th>\n",
       "      <th>obd_irr_paddy_20230531</th>\n",
       "      <th>obd_irr_paddy_20230630</th>\n",
       "      <th>obd_irr_paddy_20230731</th>\n",
       "      <th>obd_irr_paddy_20230831</th>\n",
       "      <th>obd_irr_paddy_20230930</th>\n",
       "    </tr>\n",
       "    <tr>\n",
       "      <th>real_name</th>\n",
       "      <th></th>\n",
       "      <th></th>\n",
       "      <th></th>\n",
       "      <th></th>\n",
       "      <th></th>\n",
       "      <th></th>\n",
       "      <th></th>\n",
       "      <th></th>\n",
       "      <th></th>\n",
       "      <th></th>\n",
       "      <th></th>\n",
       "      <th></th>\n",
       "      <th></th>\n",
       "      <th></th>\n",
       "      <th></th>\n",
       "      <th></th>\n",
       "      <th></th>\n",
       "      <th></th>\n",
       "      <th></th>\n",
       "      <th></th>\n",
       "      <th></th>\n",
       "    </tr>\n",
       "  </thead>\n",
       "  <tbody>\n",
       "    <tr>\n",
       "      <th>0</th>\n",
       "      <td>0.09755</td>\n",
       "      <td>0.09265</td>\n",
       "      <td>0.08785</td>\n",
       "      <td>0.10060</td>\n",
       "      <td>0.1267</td>\n",
       "      <td>0.1481</td>\n",
       "      <td>0.1394</td>\n",
       "      <td>0.1428</td>\n",
       "      <td>0.1329</td>\n",
       "      <td>0.1255</td>\n",
       "      <td>...</td>\n",
       "      <td>412.737</td>\n",
       "      <td>446.001</td>\n",
       "      <td>571.626</td>\n",
       "      <td>601.137</td>\n",
       "      <td>157.951</td>\n",
       "      <td>444.689</td>\n",
       "      <td>460.048</td>\n",
       "      <td>543.727</td>\n",
       "      <td>590.521</td>\n",
       "      <td>131.032</td>\n",
       "    </tr>\n",
       "    <tr>\n",
       "      <th>1</th>\n",
       "      <td>0.06504</td>\n",
       "      <td>0.06509</td>\n",
       "      <td>0.06427</td>\n",
       "      <td>0.07859</td>\n",
       "      <td>0.1059</td>\n",
       "      <td>0.1299</td>\n",
       "      <td>0.1243</td>\n",
       "      <td>0.1301</td>\n",
       "      <td>0.1221</td>\n",
       "      <td>0.1163</td>\n",
       "      <td>...</td>\n",
       "      <td>413.212</td>\n",
       "      <td>447.666</td>\n",
       "      <td>572.826</td>\n",
       "      <td>602.739</td>\n",
       "      <td>158.312</td>\n",
       "      <td>444.916</td>\n",
       "      <td>464.816</td>\n",
       "      <td>545.146</td>\n",
       "      <td>591.485</td>\n",
       "      <td>131.343</td>\n",
       "    </tr>\n",
       "    <tr>\n",
       "      <th>2</th>\n",
       "      <td>0.09602</td>\n",
       "      <td>0.09047</td>\n",
       "      <td>0.08494</td>\n",
       "      <td>0.09686</td>\n",
       "      <td>0.1226</td>\n",
       "      <td>0.1441</td>\n",
       "      <td>0.1351</td>\n",
       "      <td>0.1393</td>\n",
       "      <td>0.1291</td>\n",
       "      <td>0.1217</td>\n",
       "      <td>...</td>\n",
       "      <td>368.852</td>\n",
       "      <td>454.835</td>\n",
       "      <td>580.229</td>\n",
       "      <td>613.201</td>\n",
       "      <td>160.671</td>\n",
       "      <td>449.928</td>\n",
       "      <td>439.897</td>\n",
       "      <td>552.505</td>\n",
       "      <td>600.196</td>\n",
       "      <td>133.069</td>\n",
       "    </tr>\n",
       "    <tr>\n",
       "      <th>3</th>\n",
       "      <td>0.09827</td>\n",
       "      <td>0.09299</td>\n",
       "      <td>0.08784</td>\n",
       "      <td>0.10010</td>\n",
       "      <td>0.1258</td>\n",
       "      <td>0.1472</td>\n",
       "      <td>0.1382</td>\n",
       "      <td>0.1418</td>\n",
       "      <td>0.1318</td>\n",
       "      <td>0.1242</td>\n",
       "      <td>...</td>\n",
       "      <td>400.854</td>\n",
       "      <td>449.768</td>\n",
       "      <td>575.207</td>\n",
       "      <td>605.141</td>\n",
       "      <td>158.587</td>\n",
       "      <td>446.753</td>\n",
       "      <td>456.971</td>\n",
       "      <td>547.612</td>\n",
       "      <td>592.463</td>\n",
       "      <td>131.487</td>\n",
       "    </tr>\n",
       "    <tr>\n",
       "      <th>4</th>\n",
       "      <td>0.07186</td>\n",
       "      <td>0.07138</td>\n",
       "      <td>0.07024</td>\n",
       "      <td>0.08458</td>\n",
       "      <td>0.1120</td>\n",
       "      <td>0.1354</td>\n",
       "      <td>0.1292</td>\n",
       "      <td>0.1344</td>\n",
       "      <td>0.1262</td>\n",
       "      <td>0.1200</td>\n",
       "      <td>...</td>\n",
       "      <td>439.864</td>\n",
       "      <td>451.374</td>\n",
       "      <td>571.075</td>\n",
       "      <td>601.580</td>\n",
       "      <td>157.686</td>\n",
       "      <td>442.683</td>\n",
       "      <td>469.321</td>\n",
       "      <td>544.459</td>\n",
       "      <td>589.120</td>\n",
       "      <td>130.890</td>\n",
       "    </tr>\n",
       "    <tr>\n",
       "      <th>...</th>\n",
       "      <td>...</td>\n",
       "      <td>...</td>\n",
       "      <td>...</td>\n",
       "      <td>...</td>\n",
       "      <td>...</td>\n",
       "      <td>...</td>\n",
       "      <td>...</td>\n",
       "      <td>...</td>\n",
       "      <td>...</td>\n",
       "      <td>...</td>\n",
       "      <td>...</td>\n",
       "      <td>...</td>\n",
       "      <td>...</td>\n",
       "      <td>...</td>\n",
       "      <td>...</td>\n",
       "      <td>...</td>\n",
       "      <td>...</td>\n",
       "      <td>...</td>\n",
       "      <td>...</td>\n",
       "      <td>...</td>\n",
       "      <td>...</td>\n",
       "    </tr>\n",
       "    <tr>\n",
       "      <th>109</th>\n",
       "      <td>0.08304</td>\n",
       "      <td>0.08801</td>\n",
       "      <td>0.08978</td>\n",
       "      <td>0.10790</td>\n",
       "      <td>0.1366</td>\n",
       "      <td>0.1606</td>\n",
       "      <td>0.1538</td>\n",
       "      <td>0.1577</td>\n",
       "      <td>0.1500</td>\n",
       "      <td>0.1449</td>\n",
       "      <td>...</td>\n",
       "      <td>344.017</td>\n",
       "      <td>407.054</td>\n",
       "      <td>527.045</td>\n",
       "      <td>546.926</td>\n",
       "      <td>143.754</td>\n",
       "      <td>417.254</td>\n",
       "      <td>427.859</td>\n",
       "      <td>503.652</td>\n",
       "      <td>534.451</td>\n",
       "      <td>114.179</td>\n",
       "    </tr>\n",
       "    <tr>\n",
       "      <th>110</th>\n",
       "      <td>0.09411</td>\n",
       "      <td>0.09028</td>\n",
       "      <td>0.08629</td>\n",
       "      <td>0.09935</td>\n",
       "      <td>0.1256</td>\n",
       "      <td>0.1474</td>\n",
       "      <td>0.1388</td>\n",
       "      <td>0.1426</td>\n",
       "      <td>0.1328</td>\n",
       "      <td>0.1256</td>\n",
       "      <td>...</td>\n",
       "      <td>402.686</td>\n",
       "      <td>443.352</td>\n",
       "      <td>569.072</td>\n",
       "      <td>595.260</td>\n",
       "      <td>156.252</td>\n",
       "      <td>443.382</td>\n",
       "      <td>467.188</td>\n",
       "      <td>540.991</td>\n",
       "      <td>583.456</td>\n",
       "      <td>129.129</td>\n",
       "    </tr>\n",
       "    <tr>\n",
       "      <th>111</th>\n",
       "      <td>0.06257</td>\n",
       "      <td>0.06256</td>\n",
       "      <td>0.06188</td>\n",
       "      <td>0.07613</td>\n",
       "      <td>0.1036</td>\n",
       "      <td>0.1276</td>\n",
       "      <td>0.1224</td>\n",
       "      <td>0.1283</td>\n",
       "      <td>0.1206</td>\n",
       "      <td>0.1148</td>\n",
       "      <td>...</td>\n",
       "      <td>427.667</td>\n",
       "      <td>452.104</td>\n",
       "      <td>575.706</td>\n",
       "      <td>605.296</td>\n",
       "      <td>158.454</td>\n",
       "      <td>446.669</td>\n",
       "      <td>498.249</td>\n",
       "      <td>548.794</td>\n",
       "      <td>590.443</td>\n",
       "      <td>131.451</td>\n",
       "    </tr>\n",
       "    <tr>\n",
       "      <th>190</th>\n",
       "      <td>0.07288</td>\n",
       "      <td>0.07255</td>\n",
       "      <td>0.07113</td>\n",
       "      <td>0.08537</td>\n",
       "      <td>0.1128</td>\n",
       "      <td>0.1364</td>\n",
       "      <td>0.1297</td>\n",
       "      <td>0.1351</td>\n",
       "      <td>0.1268</td>\n",
       "      <td>0.1202</td>\n",
       "      <td>...</td>\n",
       "      <td>427.540</td>\n",
       "      <td>449.005</td>\n",
       "      <td>571.208</td>\n",
       "      <td>602.343</td>\n",
       "      <td>157.731</td>\n",
       "      <td>442.587</td>\n",
       "      <td>469.017</td>\n",
       "      <td>544.826</td>\n",
       "      <td>589.459</td>\n",
       "      <td>131.006</td>\n",
       "    </tr>\n",
       "    <tr>\n",
       "      <th>193</th>\n",
       "      <td>0.06352</td>\n",
       "      <td>0.06262</td>\n",
       "      <td>0.06105</td>\n",
       "      <td>0.07402</td>\n",
       "      <td>0.1010</td>\n",
       "      <td>0.1249</td>\n",
       "      <td>0.1199</td>\n",
       "      <td>0.1266</td>\n",
       "      <td>0.1192</td>\n",
       "      <td>0.1138</td>\n",
       "      <td>...</td>\n",
       "      <td>417.300</td>\n",
       "      <td>461.175</td>\n",
       "      <td>584.569</td>\n",
       "      <td>619.094</td>\n",
       "      <td>163.047</td>\n",
       "      <td>451.619</td>\n",
       "      <td>469.268</td>\n",
       "      <td>558.318</td>\n",
       "      <td>603.260</td>\n",
       "      <td>134.509</td>\n",
       "    </tr>\n",
       "  </tbody>\n",
       "</table>\n",
       "<p>108 rows × 167 columns</p>\n",
       "</div>"
      ],
      "text/plain": [
       "           cha049_20170511  cha049_20170512  cha049_20170513  cha049_20170514  \\\n",
       "real_name                                                                       \n",
       "0                  0.09755          0.09265          0.08785          0.10060   \n",
       "1                  0.06504          0.06509          0.06427          0.07859   \n",
       "2                  0.09602          0.09047          0.08494          0.09686   \n",
       "3                  0.09827          0.09299          0.08784          0.10010   \n",
       "4                  0.07186          0.07138          0.07024          0.08458   \n",
       "...                    ...              ...              ...              ...   \n",
       "109                0.08304          0.08801          0.08978          0.10790   \n",
       "110                0.09411          0.09028          0.08629          0.09935   \n",
       "111                0.06257          0.06256          0.06188          0.07613   \n",
       "190                0.07288          0.07255          0.07113          0.08537   \n",
       "193                0.06352          0.06262          0.06105          0.07402   \n",
       "\n",
       "           cha049_20170515  cha049_20170516  cha049_20170517  cha049_20170518  \\\n",
       "real_name                                                                       \n",
       "0                   0.1267           0.1481           0.1394           0.1428   \n",
       "1                   0.1059           0.1299           0.1243           0.1301   \n",
       "2                   0.1226           0.1441           0.1351           0.1393   \n",
       "3                   0.1258           0.1472           0.1382           0.1418   \n",
       "4                   0.1120           0.1354           0.1292           0.1344   \n",
       "...                    ...              ...              ...              ...   \n",
       "109                 0.1366           0.1606           0.1538           0.1577   \n",
       "110                 0.1256           0.1474           0.1388           0.1426   \n",
       "111                 0.1036           0.1276           0.1224           0.1283   \n",
       "190                 0.1128           0.1364           0.1297           0.1351   \n",
       "193                 0.1010           0.1249           0.1199           0.1266   \n",
       "\n",
       "           cha049_20170519  cha049_20170520  ...  obd_irr_paddy_20220531  \\\n",
       "real_name                                    ...                           \n",
       "0                   0.1329           0.1255  ...                 412.737   \n",
       "1                   0.1221           0.1163  ...                 413.212   \n",
       "2                   0.1291           0.1217  ...                 368.852   \n",
       "3                   0.1318           0.1242  ...                 400.854   \n",
       "4                   0.1262           0.1200  ...                 439.864   \n",
       "...                    ...              ...  ...                     ...   \n",
       "109                 0.1500           0.1449  ...                 344.017   \n",
       "110                 0.1328           0.1256  ...                 402.686   \n",
       "111                 0.1206           0.1148  ...                 427.667   \n",
       "190                 0.1268           0.1202  ...                 427.540   \n",
       "193                 0.1192           0.1138  ...                 417.300   \n",
       "\n",
       "           obd_irr_paddy_20220630  obd_irr_paddy_20220731  \\\n",
       "real_name                                                   \n",
       "0                         446.001                 571.626   \n",
       "1                         447.666                 572.826   \n",
       "2                         454.835                 580.229   \n",
       "3                         449.768                 575.207   \n",
       "4                         451.374                 571.075   \n",
       "...                           ...                     ...   \n",
       "109                       407.054                 527.045   \n",
       "110                       443.352                 569.072   \n",
       "111                       452.104                 575.706   \n",
       "190                       449.005                 571.208   \n",
       "193                       461.175                 584.569   \n",
       "\n",
       "           obd_irr_paddy_20220831  obd_irr_paddy_20220930  \\\n",
       "real_name                                                   \n",
       "0                         601.137                 157.951   \n",
       "1                         602.739                 158.312   \n",
       "2                         613.201                 160.671   \n",
       "3                         605.141                 158.587   \n",
       "4                         601.580                 157.686   \n",
       "...                           ...                     ...   \n",
       "109                       546.926                 143.754   \n",
       "110                       595.260                 156.252   \n",
       "111                       605.296                 158.454   \n",
       "190                       602.343                 157.731   \n",
       "193                       619.094                 163.047   \n",
       "\n",
       "           obd_irr_paddy_20230531  obd_irr_paddy_20230630  \\\n",
       "real_name                                                   \n",
       "0                         444.689                 460.048   \n",
       "1                         444.916                 464.816   \n",
       "2                         449.928                 439.897   \n",
       "3                         446.753                 456.971   \n",
       "4                         442.683                 469.321   \n",
       "...                           ...                     ...   \n",
       "109                       417.254                 427.859   \n",
       "110                       443.382                 467.188   \n",
       "111                       446.669                 498.249   \n",
       "190                       442.587                 469.017   \n",
       "193                       451.619                 469.268   \n",
       "\n",
       "           obd_irr_paddy_20230731  obd_irr_paddy_20230831  \\\n",
       "real_name                                                   \n",
       "0                         543.727                 590.521   \n",
       "1                         545.146                 591.485   \n",
       "2                         552.505                 600.196   \n",
       "3                         547.612                 592.463   \n",
       "4                         544.459                 589.120   \n",
       "...                           ...                     ...   \n",
       "109                       503.652                 534.451   \n",
       "110                       540.991                 583.456   \n",
       "111                       548.794                 590.443   \n",
       "190                       544.826                 589.459   \n",
       "193                       558.318                 603.260   \n",
       "\n",
       "           obd_irr_paddy_20230930  \n",
       "real_name                          \n",
       "0                         131.032  \n",
       "1                         131.343  \n",
       "2                         133.069  \n",
       "3                         131.487  \n",
       "4                         130.890  \n",
       "...                           ...  \n",
       "109                       114.179  \n",
       "110                       129.129  \n",
       "111                       131.451  \n",
       "190                       131.006  \n",
       "193                       134.509  \n",
       "\n",
       "[108 rows x 167 columns]"
      ]
     },
     "execution_count": 7,
     "metadata": {},
     "output_type": "execute_result"
    }
   ],
   "source": [
    "pt_oe"
   ]
  },
  {
   "cell_type": "code",
   "execution_count": 8,
   "metadata": {},
   "outputs": [],
   "source": [
    "analyzer.create_rels_objs(m_d, pst_file, 8)"
   ]
  },
  {
   "cell_type": "code",
   "execution_count": 10,
   "metadata": {},
   "outputs": [],
   "source": [
    "opt_df = analyzer.create_stf_opt_df(pst, pt_oe, opt_idx=88)"
   ]
  },
  {
   "cell_type": "code",
   "execution_count": 11,
   "metadata": {},
   "outputs": [
    {
     "data": {
      "text/html": [
       "<div>\n",
       "<style scoped>\n",
       "    .dataframe tbody tr th:only-of-type {\n",
       "        vertical-align: middle;\n",
       "    }\n",
       "\n",
       "    .dataframe tbody tr th {\n",
       "        vertical-align: top;\n",
       "    }\n",
       "\n",
       "    .dataframe thead th {\n",
       "        text-align: right;\n",
       "    }\n",
       "</style>\n",
       "<table border=\"1\" class=\"dataframe\">\n",
       "  <thead>\n",
       "    <tr style=\"text-align: right;\">\n",
       "      <th></th>\n",
       "      <th>88</th>\n",
       "      <th>obsnme</th>\n",
       "      <th>obsval</th>\n",
       "      <th>weight</th>\n",
       "      <th>obgnme</th>\n",
       "      <th>time</th>\n",
       "    </tr>\n",
       "  </thead>\n",
       "  <tbody>\n",
       "    <tr>\n",
       "      <th>cha049_20170511</th>\n",
       "      <td>0.06624</td>\n",
       "      <td>cha049_20170511</td>\n",
       "      <td>0.126500</td>\n",
       "      <td>39.466684</td>\n",
       "      <td>cha049</td>\n",
       "      <td>170511</td>\n",
       "    </tr>\n",
       "    <tr>\n",
       "      <th>cha049_20170512</th>\n",
       "      <td>0.06622</td>\n",
       "      <td>cha049_20170512</td>\n",
       "      <td>0.121000</td>\n",
       "      <td>39.466684</td>\n",
       "      <td>cha049</td>\n",
       "      <td>170512</td>\n",
       "    </tr>\n",
       "    <tr>\n",
       "      <th>cha049_20170513</th>\n",
       "      <td>0.06542</td>\n",
       "      <td>cha049_20170513</td>\n",
       "      <td>0.080667</td>\n",
       "      <td>39.466684</td>\n",
       "      <td>cha049</td>\n",
       "      <td>170513</td>\n",
       "    </tr>\n",
       "    <tr>\n",
       "      <th>cha049_20170514</th>\n",
       "      <td>0.07968</td>\n",
       "      <td>cha049_20170514</td>\n",
       "      <td>0.161333</td>\n",
       "      <td>39.466684</td>\n",
       "      <td>cha049</td>\n",
       "      <td>170514</td>\n",
       "    </tr>\n",
       "    <tr>\n",
       "      <th>cha049_20170515</th>\n",
       "      <td>0.10720</td>\n",
       "      <td>cha049_20170515</td>\n",
       "      <td>0.242000</td>\n",
       "      <td>39.466684</td>\n",
       "      <td>cha049</td>\n",
       "      <td>170515</td>\n",
       "    </tr>\n",
       "    <tr>\n",
       "      <th>...</th>\n",
       "      <td>...</td>\n",
       "      <td>...</td>\n",
       "      <td>...</td>\n",
       "      <td>...</td>\n",
       "      <td>...</td>\n",
       "      <td>...</td>\n",
       "    </tr>\n",
       "    <tr>\n",
       "      <th>obd_irr_paddy_20230531</th>\n",
       "      <td>444.23000</td>\n",
       "      <td>obd_irr_paddy_20230531</td>\n",
       "      <td>320.328724</td>\n",
       "      <td>0.042452</td>\n",
       "      <td>obd_irr_paddy</td>\n",
       "      <td>230531</td>\n",
       "    </tr>\n",
       "    <tr>\n",
       "      <th>obd_irr_paddy_20230630</th>\n",
       "      <td>469.66700</td>\n",
       "      <td>obd_irr_paddy_20230630</td>\n",
       "      <td>533.104050</td>\n",
       "      <td>0.042452</td>\n",
       "      <td>obd_irr_paddy</td>\n",
       "      <td>230630</td>\n",
       "    </tr>\n",
       "    <tr>\n",
       "      <th>obd_irr_paddy_20230731</th>\n",
       "      <td>546.79200</td>\n",
       "      <td>obd_irr_paddy_20230731</td>\n",
       "      <td>629.228186</td>\n",
       "      <td>0.042452</td>\n",
       "      <td>obd_irr_paddy</td>\n",
       "      <td>230731</td>\n",
       "    </tr>\n",
       "    <tr>\n",
       "      <th>obd_irr_paddy_20230831</th>\n",
       "      <td>594.05600</td>\n",
       "      <td>obd_irr_paddy_20230831</td>\n",
       "      <td>691.368456</td>\n",
       "      <td>0.042452</td>\n",
       "      <td>obd_irr_paddy</td>\n",
       "      <td>230831</td>\n",
       "    </tr>\n",
       "    <tr>\n",
       "      <th>obd_irr_paddy_20230930</th>\n",
       "      <td>132.14400</td>\n",
       "      <td>obd_irr_paddy_20230930</td>\n",
       "      <td>106.164307</td>\n",
       "      <td>0.042452</td>\n",
       "      <td>obd_irr_paddy</td>\n",
       "      <td>230930</td>\n",
       "    </tr>\n",
       "  </tbody>\n",
       "</table>\n",
       "<p>167 rows × 6 columns</p>\n",
       "</div>"
      ],
      "text/plain": [
       "                               88                  obsnme      obsval  \\\n",
       "cha049_20170511           0.06624         cha049_20170511    0.126500   \n",
       "cha049_20170512           0.06622         cha049_20170512    0.121000   \n",
       "cha049_20170513           0.06542         cha049_20170513    0.080667   \n",
       "cha049_20170514           0.07968         cha049_20170514    0.161333   \n",
       "cha049_20170515           0.10720         cha049_20170515    0.242000   \n",
       "...                           ...                     ...         ...   \n",
       "obd_irr_paddy_20230531  444.23000  obd_irr_paddy_20230531  320.328724   \n",
       "obd_irr_paddy_20230630  469.66700  obd_irr_paddy_20230630  533.104050   \n",
       "obd_irr_paddy_20230731  546.79200  obd_irr_paddy_20230731  629.228186   \n",
       "obd_irr_paddy_20230831  594.05600  obd_irr_paddy_20230831  691.368456   \n",
       "obd_irr_paddy_20230930  132.14400  obd_irr_paddy_20230930  106.164307   \n",
       "\n",
       "                           weight         obgnme    time  \n",
       "cha049_20170511         39.466684         cha049  170511  \n",
       "cha049_20170512         39.466684         cha049  170512  \n",
       "cha049_20170513         39.466684         cha049  170513  \n",
       "cha049_20170514         39.466684         cha049  170514  \n",
       "cha049_20170515         39.466684         cha049  170515  \n",
       "...                           ...            ...     ...  \n",
       "obd_irr_paddy_20230531   0.042452  obd_irr_paddy  230531  \n",
       "obd_irr_paddy_20230630   0.042452  obd_irr_paddy  230630  \n",
       "obd_irr_paddy_20230731   0.042452  obd_irr_paddy  230731  \n",
       "obd_irr_paddy_20230831   0.042452  obd_irr_paddy  230831  \n",
       "obd_irr_paddy_20230930   0.042452  obd_irr_paddy  230930  \n",
       "\n",
       "[167 rows x 6 columns]"
      ]
     },
     "execution_count": 11,
     "metadata": {},
     "output_type": "execute_result"
    }
   ],
   "source": [
    "opt_df"
   ]
  },
  {
   "cell_type": "code",
   "execution_count": null,
   "metadata": {},
   "outputs": [],
   "source": [
    "m_d2 = 'D:\\\\spark\\\\jj\\\\TxtInOut_Imsil_rye_rot_r2'"
   ]
  },
  {
   "cell_type": "code",
   "execution_count": null,
   "metadata": {},
   "outputs": [],
   "source": [
    "org_sim = analyzer.create_stf_sim_obd_df(m_d2, 1, \"singi_obs_q1_colnam.csv\", \"cha01\")"
   ]
  },
  {
   "cell_type": "code",
   "execution_count": null,
   "metadata": {},
   "outputs": [],
   "source": [
    "org_sim"
   ]
  },
  {
   "cell_type": "code",
   "execution_count": 30,
   "metadata": {},
   "outputs": [],
   "source": [
    "stf_df = opt_df.loc[opt_df[\"obgnme\"]==\"obd_irr_paddy\"]"
   ]
  },
  {
   "cell_type": "code",
   "execution_count": 31,
   "metadata": {},
   "outputs": [
    {
     "data": {
      "image/png": "[encoded data removed]",
      "text/plain": [
       "<Figure size 1000x800 with 2 Axes>"
      ]
     },
     "metadata": {},
     "output_type": "display_data"
    }
   ],
   "source": [
    "# plot progress comparison pre and post\n",
    "fig, axes = plt.subplots(2, 1, figsize=(10, 8))\n",
    "# analyzer.plot_stf_sim_obd(axes[0], org_sim, dot=True)\n",
    "analyzer.plot_stf_sim_obd(axes[1], stf_df, dot=False)\n",
    "axes[0].set_title('pre')\n",
    "axes[1].set_title('post')\n",
    "plt.show()"
   ]
  },
  {
   "cell_type": "code",
   "execution_count": 14,
   "metadata": {},
   "outputs": [
    {
     "data": {
      "image/png": "[encoded data removed]",
      "text/plain": [
       "<Figure size 640x480 with 1 Axes>"
      ]
     },
     "metadata": {},
     "output_type": "display_data"
    }
   ],
   "source": [
    "# plot progress\n",
    "fig,ax = plt.subplots(1,1)\n",
    "pr_oe.phi_vector.apply(np.log10).hist(ax=ax,fc=\"0.5\",ec=\"none\",alpha=0.5,density=False)\n",
    "pt_oe.phi_vector.apply(np.log10).hist(ax=ax,fc=\"b\",ec=\"none\",alpha=0.5,density=False)\n",
    "_ = ax.set_xlabel(\"$log_{10}\\\\phi$\")"
   ]
  },
  {
   "cell_type": "code",
   "execution_count": 26,
   "metadata": {},
   "outputs": [
    {
     "name": "stdout",
     "output_type": "stream",
     "text": [
      "return type uncaught, losing Ensemble type, returning DataFrame\n",
      "return type uncaught, losing Ensemble type, returning DataFrame\n",
      "return type uncaught, losing Ensemble type, returning DataFrame\n",
      "return type uncaught, losing Ensemble type, returning DataFrame\n"
     ]
    },
    {
     "name": "stderr",
     "output_type": "stream",
     "text": [
      "D:\\spark\\spark_gits\\swatp_pst_wf\\dependencies\\pyemu\\pyemu\\en.py:227: PyemuWarning: return type uncaught, losing Ensemble type, returning DataFrame\n",
      "D:\\spark\\spark_gits\\swatp_pst_wf\\dependencies\\pyemu\\pyemu\\en.py:227: PyemuWarning: return type uncaught, losing Ensemble type, returning DataFrame\n",
      "D:\\spark\\spark_gits\\swatp_pst_wf\\dependencies\\pyemu\\pyemu\\en.py:227: PyemuWarning: return type uncaught, losing Ensemble type, returning DataFrame\n",
      "D:\\spark\\spark_gits\\swatp_pst_wf\\dependencies\\pyemu\\pyemu\\en.py:227: PyemuWarning: return type uncaught, losing Ensemble type, returning DataFrame\n"
     ]
    }
   ],
   "source": [
    "df = analyzer.get_pr_pt_df(pst, pr_oe, pt_oe)"
   ]
  },
  {
   "cell_type": "code",
   "execution_count": 27,
   "metadata": {},
   "outputs": [
    {
     "ename": "KeyError",
     "evalue": "'newtime'",
     "output_type": "error",
     "traceback": [
      "\u001b[1;31m--------------------------------------------------------------\u001b[0m",
      "\u001b[1;31mKeyError\u001b[0m                     Traceback (most recent call last)",
      "File \u001b[1;32m~\\AppData\\Local\\miniconda3\\envs\\swatp_pst_wf\\Lib\\site-packages\\pandas\\core\\indexes\\base.py:3805\u001b[0m, in \u001b[0;36mIndex.get_loc\u001b[1;34m(self, key)\u001b[0m\n\u001b[0;32m   3804\u001b[0m \u001b[38;5;28;01mtry\u001b[39;00m:\n\u001b[1;32m-> 3805\u001b[0m     \u001b[38;5;28;01mreturn\u001b[39;00m \u001b[38;5;28;43mself\u001b[39;49m\u001b[38;5;241;43m.\u001b[39;49m\u001b[43m_engine\u001b[49m\u001b[38;5;241;43m.\u001b[39;49m\u001b[43mget_loc\u001b[49m\u001b[43m(\u001b[49m\u001b[43mcasted_key\u001b[49m\u001b[43m)\u001b[49m\n\u001b[0;32m   3806\u001b[0m \u001b[38;5;28;01mexcept\u001b[39;00m \u001b[38;5;167;01mKeyError\u001b[39;00m \u001b[38;5;28;01mas\u001b[39;00m err:\n",
      "File \u001b[1;32mindex.pyx:167\u001b[0m, in \u001b[0;36mpandas._libs.index.IndexEngine.get_loc\u001b[1;34m()\u001b[0m\n",
      "File \u001b[1;32mindex.pyx:196\u001b[0m, in \u001b[0;36mpandas._libs.index.IndexEngine.get_loc\u001b[1;34m()\u001b[0m\n",
      "File \u001b[1;32mpandas\\\\_libs\\\\hashtable_class_helper.pxi:7081\u001b[0m, in \u001b[0;36mpandas._libs.hashtable.PyObjectHashTable.get_item\u001b[1;34m()\u001b[0m\n",
      "File \u001b[1;32mpandas\\\\_libs\\\\hashtable_class_helper.pxi:7089\u001b[0m, in \u001b[0;36mpandas._libs.hashtable.PyObjectHashTable.get_item\u001b[1;34m()\u001b[0m\n",
      "\u001b[1;31mKeyError\u001b[0m: 'newtime'",
      "\nThe above exception was the direct cause of the following exception:\n",
      "\u001b[1;31mKeyError\u001b[0m                     Traceback (most recent call last)",
      "Cell \u001b[1;32mIn[27], line 1\u001b[0m\n\u001b[1;32m----> 1\u001b[0m \u001b[43manalyzer\u001b[49m\u001b[38;5;241;43m.\u001b[39;49m\u001b[43mplot_fill_between_ensembles\u001b[49m\u001b[43m(\u001b[49m\u001b[43mdf\u001b[49m\u001b[43m)\u001b[49m\n",
      "File \u001b[1;32md:\\spark\\spark_gits\\swatp_pst_wf\\dependencies\\swatp_pst\\swatp_pst\\analyzer.py:890\u001b[0m, in \u001b[0;36mplot_fill_between_ensembles\u001b[1;34m(df, width, height, caldates, valdates, size, pcp_df, bestrel_idx)\u001b[0m\n\u001b[0;32m    888\u001b[0m     size \u001b[38;5;241m=\u001b[39m \u001b[38;5;241m30\u001b[39m\n\u001b[0;32m    889\u001b[0m fig, ax \u001b[38;5;241m=\u001b[39m plt\u001b[38;5;241m.\u001b[39msubplots(figsize\u001b[38;5;241m=\u001b[39m(width,height))\n\u001b[1;32m--> 890\u001b[0m x_values \u001b[38;5;241m=\u001b[39m \u001b[43mdf\u001b[49m\u001b[38;5;241;43m.\u001b[39;49m\u001b[43mloc\u001b[49m\u001b[43m[\u001b[49m\u001b[43m:\u001b[49m\u001b[43m,\u001b[49m\u001b[43m \u001b[49m\u001b[38;5;124;43m\"\u001b[39;49m\u001b[38;5;124;43mnewtime\u001b[39;49m\u001b[38;5;124;43m\"\u001b[39;49m\u001b[43m]\u001b[49m\u001b[38;5;241m.\u001b[39mvalues\n\u001b[0;32m    891\u001b[0m \u001b[38;5;66;03m# x_values = df.index.values\u001b[39;00m\n\u001b[0;32m    892\u001b[0m \u001b[38;5;28;01mif\u001b[39;00m caldates \u001b[38;5;129;01mis\u001b[39;00m \u001b[38;5;129;01mnot\u001b[39;00m \u001b[38;5;28;01mNone\u001b[39;00m:\n",
      "File \u001b[1;32m~\\AppData\\Local\\miniconda3\\envs\\swatp_pst_wf\\Lib\\site-packages\\pandas\\core\\indexing.py:1184\u001b[0m, in \u001b[0;36m_LocationIndexer.__getitem__\u001b[1;34m(self, key)\u001b[0m\n\u001b[0;32m   1182\u001b[0m     \u001b[38;5;28;01mif\u001b[39;00m \u001b[38;5;28mself\u001b[39m\u001b[38;5;241m.\u001b[39m_is_scalar_access(key):\n\u001b[0;32m   1183\u001b[0m         \u001b[38;5;28;01mreturn\u001b[39;00m \u001b[38;5;28mself\u001b[39m\u001b[38;5;241m.\u001b[39mobj\u001b[38;5;241m.\u001b[39m_get_value(\u001b[38;5;241m*\u001b[39mkey, takeable\u001b[38;5;241m=\u001b[39m\u001b[38;5;28mself\u001b[39m\u001b[38;5;241m.\u001b[39m_takeable)\n\u001b[1;32m-> 1184\u001b[0m     \u001b[38;5;28;01mreturn\u001b[39;00m \u001b[38;5;28;43mself\u001b[39;49m\u001b[38;5;241;43m.\u001b[39;49m\u001b[43m_getitem_tuple\u001b[49m\u001b[43m(\u001b[49m\u001b[43mkey\u001b[49m\u001b[43m)\u001b[49m\n\u001b[0;32m   1185\u001b[0m \u001b[38;5;28;01melse\u001b[39;00m:\n\u001b[0;32m   1186\u001b[0m     \u001b[38;5;66;03m# we by definition only have the 0th axis\u001b[39;00m\n\u001b[0;32m   1187\u001b[0m     axis \u001b[38;5;241m=\u001b[39m \u001b[38;5;28mself\u001b[39m\u001b[38;5;241m.\u001b[39maxis \u001b[38;5;129;01mor\u001b[39;00m \u001b[38;5;241m0\u001b[39m\n",
      "File \u001b[1;32m~\\AppData\\Local\\miniconda3\\envs\\swatp_pst_wf\\Lib\\site-packages\\pandas\\core\\indexing.py:1368\u001b[0m, in \u001b[0;36m_LocIndexer._getitem_tuple\u001b[1;34m(self, tup)\u001b[0m\n\u001b[0;32m   1366\u001b[0m \u001b[38;5;28;01mwith\u001b[39;00m suppress(IndexingError):\n\u001b[0;32m   1367\u001b[0m     tup \u001b[38;5;241m=\u001b[39m \u001b[38;5;28mself\u001b[39m\u001b[38;5;241m.\u001b[39m_expand_ellipsis(tup)\n\u001b[1;32m-> 1368\u001b[0m     \u001b[38;5;28;01mreturn\u001b[39;00m \u001b[38;5;28;43mself\u001b[39;49m\u001b[38;5;241;43m.\u001b[39;49m\u001b[43m_getitem_lowerdim\u001b[49m\u001b[43m(\u001b[49m\u001b[43mtup\u001b[49m\u001b[43m)\u001b[49m\n\u001b[0;32m   1370\u001b[0m \u001b[38;5;66;03m# no multi-index, so validate all of the indexers\u001b[39;00m\n\u001b[0;32m   1371\u001b[0m tup \u001b[38;5;241m=\u001b[39m \u001b[38;5;28mself\u001b[39m\u001b[38;5;241m.\u001b[39m_validate_tuple_indexer(tup)\n",
      "File \u001b[1;32m~\\AppData\\Local\\miniconda3\\envs\\swatp_pst_wf\\Lib\\site-packages\\pandas\\core\\indexing.py:1065\u001b[0m, in \u001b[0;36m_LocationIndexer._getitem_lowerdim\u001b[1;34m(self, tup)\u001b[0m\n\u001b[0;32m   1061\u001b[0m \u001b[38;5;28;01mfor\u001b[39;00m i, key \u001b[38;5;129;01min\u001b[39;00m \u001b[38;5;28menumerate\u001b[39m(tup):\n\u001b[0;32m   1062\u001b[0m     \u001b[38;5;28;01mif\u001b[39;00m is_label_like(key):\n\u001b[0;32m   1063\u001b[0m         \u001b[38;5;66;03m# We don't need to check for tuples here because those are\u001b[39;00m\n\u001b[0;32m   1064\u001b[0m         \u001b[38;5;66;03m#  caught by the _is_nested_tuple_indexer check above.\u001b[39;00m\n\u001b[1;32m-> 1065\u001b[0m         section \u001b[38;5;241m=\u001b[39m \u001b[38;5;28;43mself\u001b[39;49m\u001b[38;5;241;43m.\u001b[39;49m\u001b[43m_getitem_axis\u001b[49m\u001b[43m(\u001b[49m\u001b[43mkey\u001b[49m\u001b[43m,\u001b[49m\u001b[43m \u001b[49m\u001b[43maxis\u001b[49m\u001b[38;5;241;43m=\u001b[39;49m\u001b[43mi\u001b[49m\u001b[43m)\u001b[49m\n\u001b[0;32m   1067\u001b[0m         \u001b[38;5;66;03m# We should never have a scalar section here, because\u001b[39;00m\n\u001b[0;32m   1068\u001b[0m         \u001b[38;5;66;03m#  _getitem_lowerdim is only called after a check for\u001b[39;00m\n\u001b[0;32m   1069\u001b[0m         \u001b[38;5;66;03m#  is_scalar_access, which that would be.\u001b[39;00m\n\u001b[0;32m   1070\u001b[0m         \u001b[38;5;28;01mif\u001b[39;00m section\u001b[38;5;241m.\u001b[39mndim \u001b[38;5;241m==\u001b[39m \u001b[38;5;28mself\u001b[39m\u001b[38;5;241m.\u001b[39mndim:\n\u001b[0;32m   1071\u001b[0m             \u001b[38;5;66;03m# we're in the middle of slicing through a MultiIndex\u001b[39;00m\n\u001b[0;32m   1072\u001b[0m             \u001b[38;5;66;03m# revise the key wrt to `section` by inserting an _NS\u001b[39;00m\n",
      "File \u001b[1;32m~\\AppData\\Local\\miniconda3\\envs\\swatp_pst_wf\\Lib\\site-packages\\pandas\\core\\indexing.py:1431\u001b[0m, in \u001b[0;36m_LocIndexer._getitem_axis\u001b[1;34m(self, key, axis)\u001b[0m\n\u001b[0;32m   1429\u001b[0m \u001b[38;5;66;03m# fall thru to straight lookup\u001b[39;00m\n\u001b[0;32m   1430\u001b[0m \u001b[38;5;28mself\u001b[39m\u001b[38;5;241m.\u001b[39m_validate_key(key, axis)\n\u001b[1;32m-> 1431\u001b[0m \u001b[38;5;28;01mreturn\u001b[39;00m \u001b[38;5;28;43mself\u001b[39;49m\u001b[38;5;241;43m.\u001b[39;49m\u001b[43m_get_label\u001b[49m\u001b[43m(\u001b[49m\u001b[43mkey\u001b[49m\u001b[43m,\u001b[49m\u001b[43m \u001b[49m\u001b[43maxis\u001b[49m\u001b[38;5;241;43m=\u001b[39;49m\u001b[43maxis\u001b[49m\u001b[43m)\u001b[49m\n",
      "File \u001b[1;32m~\\AppData\\Local\\miniconda3\\envs\\swatp_pst_wf\\Lib\\site-packages\\pandas\\core\\indexing.py:1381\u001b[0m, in \u001b[0;36m_LocIndexer._get_label\u001b[1;34m(self, label, axis)\u001b[0m\n\u001b[0;32m   1379\u001b[0m \u001b[38;5;28;01mdef\u001b[39;00m \u001b[38;5;21m_get_label\u001b[39m(\u001b[38;5;28mself\u001b[39m, label, axis: AxisInt):\n\u001b[0;32m   1380\u001b[0m     \u001b[38;5;66;03m# GH#5567 this will fail if the label is not present in the axis.\u001b[39;00m\n\u001b[1;32m-> 1381\u001b[0m     \u001b[38;5;28;01mreturn\u001b[39;00m \u001b[38;5;28;43mself\u001b[39;49m\u001b[38;5;241;43m.\u001b[39;49m\u001b[43mobj\u001b[49m\u001b[38;5;241;43m.\u001b[39;49m\u001b[43mxs\u001b[49m\u001b[43m(\u001b[49m\u001b[43mlabel\u001b[49m\u001b[43m,\u001b[49m\u001b[43m \u001b[49m\u001b[43maxis\u001b[49m\u001b[38;5;241;43m=\u001b[39;49m\u001b[43maxis\u001b[49m\u001b[43m)\u001b[49m\n",
      "File \u001b[1;32m~\\AppData\\Local\\miniconda3\\envs\\swatp_pst_wf\\Lib\\site-packages\\pandas\\core\\generic.py:4287\u001b[0m, in \u001b[0;36mNDFrame.xs\u001b[1;34m(self, key, axis, level, drop_level)\u001b[0m\n\u001b[0;32m   4285\u001b[0m \u001b[38;5;28;01mif\u001b[39;00m axis \u001b[38;5;241m==\u001b[39m \u001b[38;5;241m1\u001b[39m:\n\u001b[0;32m   4286\u001b[0m     \u001b[38;5;28;01mif\u001b[39;00m drop_level:\n\u001b[1;32m-> 4287\u001b[0m         \u001b[38;5;28;01mreturn\u001b[39;00m \u001b[38;5;28;43mself\u001b[39;49m\u001b[43m[\u001b[49m\u001b[43mkey\u001b[49m\u001b[43m]\u001b[49m\n\u001b[0;32m   4288\u001b[0m     index \u001b[38;5;241m=\u001b[39m \u001b[38;5;28mself\u001b[39m\u001b[38;5;241m.\u001b[39mcolumns\n\u001b[0;32m   4289\u001b[0m \u001b[38;5;28;01melse\u001b[39;00m:\n",
      "File \u001b[1;32m~\\AppData\\Local\\miniconda3\\envs\\swatp_pst_wf\\Lib\\site-packages\\pandas\\core\\frame.py:4102\u001b[0m, in \u001b[0;36mDataFrame.__getitem__\u001b[1;34m(self, key)\u001b[0m\n\u001b[0;32m   4100\u001b[0m \u001b[38;5;28;01mif\u001b[39;00m \u001b[38;5;28mself\u001b[39m\u001b[38;5;241m.\u001b[39mcolumns\u001b[38;5;241m.\u001b[39mnlevels \u001b[38;5;241m>\u001b[39m \u001b[38;5;241m1\u001b[39m:\n\u001b[0;32m   4101\u001b[0m     \u001b[38;5;28;01mreturn\u001b[39;00m \u001b[38;5;28mself\u001b[39m\u001b[38;5;241m.\u001b[39m_getitem_multilevel(key)\n\u001b[1;32m-> 4102\u001b[0m indexer \u001b[38;5;241m=\u001b[39m \u001b[38;5;28;43mself\u001b[39;49m\u001b[38;5;241;43m.\u001b[39;49m\u001b[43mcolumns\u001b[49m\u001b[38;5;241;43m.\u001b[39;49m\u001b[43mget_loc\u001b[49m\u001b[43m(\u001b[49m\u001b[43mkey\u001b[49m\u001b[43m)\u001b[49m\n\u001b[0;32m   4103\u001b[0m \u001b[38;5;28;01mif\u001b[39;00m is_integer(indexer):\n\u001b[0;32m   4104\u001b[0m     indexer \u001b[38;5;241m=\u001b[39m [indexer]\n",
      "File \u001b[1;32m~\\AppData\\Local\\miniconda3\\envs\\swatp_pst_wf\\Lib\\site-packages\\pandas\\core\\indexes\\base.py:3812\u001b[0m, in \u001b[0;36mIndex.get_loc\u001b[1;34m(self, key)\u001b[0m\n\u001b[0;32m   3807\u001b[0m     \u001b[38;5;28;01mif\u001b[39;00m \u001b[38;5;28misinstance\u001b[39m(casted_key, \u001b[38;5;28mslice\u001b[39m) \u001b[38;5;129;01mor\u001b[39;00m (\n\u001b[0;32m   3808\u001b[0m         \u001b[38;5;28misinstance\u001b[39m(casted_key, abc\u001b[38;5;241m.\u001b[39mIterable)\n\u001b[0;32m   3809\u001b[0m         \u001b[38;5;129;01mand\u001b[39;00m \u001b[38;5;28many\u001b[39m(\u001b[38;5;28misinstance\u001b[39m(x, \u001b[38;5;28mslice\u001b[39m) \u001b[38;5;28;01mfor\u001b[39;00m x \u001b[38;5;129;01min\u001b[39;00m casted_key)\n\u001b[0;32m   3810\u001b[0m     ):\n\u001b[0;32m   3811\u001b[0m         \u001b[38;5;28;01mraise\u001b[39;00m InvalidIndexError(key)\n\u001b[1;32m-> 3812\u001b[0m     \u001b[38;5;28;01mraise\u001b[39;00m \u001b[38;5;167;01mKeyError\u001b[39;00m(key) \u001b[38;5;28;01mfrom\u001b[39;00m \u001b[38;5;21;01merr\u001b[39;00m\n\u001b[0;32m   3813\u001b[0m \u001b[38;5;28;01mexcept\u001b[39;00m \u001b[38;5;167;01mTypeError\u001b[39;00m:\n\u001b[0;32m   3814\u001b[0m     \u001b[38;5;66;03m# If we have a listlike key, _check_indexing_error will raise\u001b[39;00m\n\u001b[0;32m   3815\u001b[0m     \u001b[38;5;66;03m#  InvalidIndexError. Otherwise we fall through and re-raise\u001b[39;00m\n\u001b[0;32m   3816\u001b[0m     \u001b[38;5;66;03m#  the TypeError.\u001b[39;00m\n\u001b[0;32m   3817\u001b[0m     \u001b[38;5;28mself\u001b[39m\u001b[38;5;241m.\u001b[39m_check_indexing_error(key)\n",
      "\u001b[1;31mKeyError\u001b[0m: 'newtime'"
     ]
    },
    {
     "data": {
      "image/png": "[encoded data removed]",
      "text/plain": [
       "<Figure size 1200x400 with 1 Axes>"
      ]
     },
     "metadata": {},
     "output_type": "display_data"
    }
   ],
   "source": [
    "analyzer.plot_fill_between_ensembles(df)"
   ]
  },
  {
   "cell_type": "code",
   "execution_count": null,
   "metadata": {},
   "outputs": [],
   "source": []
  },
  {
   "cell_type": "code",
   "execution_count": null,
   "metadata": {},
   "outputs": [],
   "source": []
  },
  {
   "cell_type": "code",
   "execution_count": null,
   "metadata": {},
   "outputs": [],
   "source": []
  },
  {
   "cell_type": "code",
   "execution_count": 15,
   "metadata": {
    "scrolled": true
   },
   "outputs": [
    {
     "name": "stdout",
     "output_type": "stream",
     "text": [
      "2024-08-21 08:15:11.865538 ERROR: res_phi_pie: pst.res is None, couldn't find residuals file\n"
     ]
    },
    {
     "ename": "Exception",
     "evalue": "res_phi_pie: pst.res is None, couldn't find residuals file",
     "output_type": "error",
     "traceback": [
      "\u001b[1;31m--------------------------------------------------------------\u001b[0m",
      "\u001b[1;31mAssertionError\u001b[0m               Traceback (most recent call last)",
      "File \u001b[1;32mD:\\spark\\spark_gits\\swatp_pst_wf\\dependencies\\pyemu\\pyemu\\plot\\plot_utils.py:330\u001b[0m, in \u001b[0;36mres_1to1\u001b[1;34m(pst, logger, filename, plot_hexbin, histogram, **kwargs)\u001b[0m\n\u001b[0;32m    329\u001b[0m \u001b[38;5;28;01mtry\u001b[39;00m:\n\u001b[1;32m--> 330\u001b[0m     res \u001b[38;5;241m=\u001b[39m \u001b[43mpst\u001b[49m\u001b[38;5;241;43m.\u001b[39;49m\u001b[43mres\u001b[49m\n\u001b[0;32m    331\u001b[0m \u001b[38;5;28;01mexcept\u001b[39;00m:\n",
      "File \u001b[1;32mD:\\spark\\spark_gits\\swatp_pst_wf\\dependencies\\pyemu\\pyemu\\pst\\pst_handler.py:358\u001b[0m, in \u001b[0;36mPst.res\u001b[1;34m(self)\u001b[0m\n\u001b[0;32m    350\u001b[0m                             \u001b[38;5;28;01mraise\u001b[39;00m \u001b[38;5;167;01mException\u001b[39;00m(\n\u001b[0;32m    351\u001b[0m                                 \u001b[38;5;124m\"\u001b[39m\u001b[38;5;124mPst.res: \u001b[39m\u001b[38;5;124m\"\u001b[39m\n\u001b[0;32m    352\u001b[0m                                 \u001b[38;5;241m+\u001b[39m \u001b[38;5;124m\"\u001b[39m\u001b[38;5;124mcould not residual file case.res\u001b[39m\u001b[38;5;124m\"\u001b[39m\n\u001b[1;32m   (...)\u001b[0m\n\u001b[0;32m    355\u001b[0m                                 \u001b[38;5;241m+\u001b[39m \u001b[38;5;124m\"\u001b[39m\u001b[38;5;124m or case.obs.csv\u001b[39m\u001b[38;5;124m\"\u001b[39m\n\u001b[0;32m    356\u001b[0m                             )\n\u001b[1;32m--> 358\u001b[0m res \u001b[38;5;241m=\u001b[39m \u001b[43mpst_utils\u001b[49m\u001b[38;5;241;43m.\u001b[39;49m\u001b[43mread_resfile\u001b[49m\u001b[43m(\u001b[49m\u001b[38;5;28;43mself\u001b[39;49m\u001b[38;5;241;43m.\u001b[39;49m\u001b[43mresfile\u001b[49m\u001b[43m)\u001b[49m\n\u001b[0;32m    359\u001b[0m missing_bool \u001b[38;5;241m=\u001b[39m \u001b[38;5;28mself\u001b[39m\u001b[38;5;241m.\u001b[39mobservation_data\u001b[38;5;241m.\u001b[39mobsnme\u001b[38;5;241m.\u001b[39mapply(\n\u001b[0;32m    360\u001b[0m     \u001b[38;5;28;01mlambda\u001b[39;00m x: x \u001b[38;5;129;01mnot\u001b[39;00m \u001b[38;5;129;01min\u001b[39;00m res\u001b[38;5;241m.\u001b[39mname\n\u001b[0;32m    361\u001b[0m )\n",
      "File \u001b[1;32mD:\\spark\\spark_gits\\swatp_pst_wf\\dependencies\\pyemu\\pyemu\\pst\\pst_utils.py:238\u001b[0m, in \u001b[0;36mread_resfile\u001b[1;34m(resfile)\u001b[0m\n\u001b[0;32m    222\u001b[0m \u001b[38;5;250m\u001b[39m\u001b[38;5;124;03m\"\"\"load a PEST-style residual file into a pandas.DataFrame\u001b[39;00m\n\u001b[0;32m    223\u001b[0m \n\u001b[0;32m    224\u001b[0m \u001b[38;5;124;03mArgs:\u001b[39;00m\n\u001b[1;32m   (...)\u001b[0m\n\u001b[0;32m    236\u001b[0m \n\u001b[0;32m    237\u001b[0m \u001b[38;5;124;03m\"\"\"\u001b[39;00m\n\u001b[1;32m--> 238\u001b[0m \u001b[38;5;28;01massert\u001b[39;00m os\u001b[38;5;241m.\u001b[39mpath\u001b[38;5;241m.\u001b[39mexists(\n\u001b[0;32m    239\u001b[0m     resfile\n\u001b[0;32m    240\u001b[0m ), \u001b[38;5;124m\"\u001b[39m\u001b[38;5;124mread_resfile() error: resfile \u001b[39m\u001b[38;5;124m\"\u001b[39m \u001b[38;5;241m+\u001b[39m \u001b[38;5;124m\"\u001b[39m\u001b[38;5;132;01m{0}\u001b[39;00m\u001b[38;5;124m not found\u001b[39m\u001b[38;5;124m\"\u001b[39m\u001b[38;5;241m.\u001b[39mformat(resfile)\n\u001b[0;32m    241\u001b[0m converters \u001b[38;5;241m=\u001b[39m {\u001b[38;5;124m\"\u001b[39m\u001b[38;5;124mname\u001b[39m\u001b[38;5;124m\"\u001b[39m: str_con, \u001b[38;5;124m\"\u001b[39m\u001b[38;5;124mgroup\u001b[39m\u001b[38;5;124m\"\u001b[39m: str_con}\n",
      "\u001b[1;31mAssertionError\u001b[0m: read_resfile() error: resfile D:\\spark\\Albufera\\opt01\\alb_rw_ies02\\alb_rw_ies.base.rei not found",
      "\nDuring handling of the above exception, another exception occurred:\n",
      "\u001b[1;31mException\u001b[0m                    Traceback (most recent call last)",
      "Cell \u001b[1;32mIn[15], line 2\u001b[0m\n\u001b[0;32m      1\u001b[0m \u001b[38;5;66;03m# plot 1 to 1 scatter plot and residuals\u001b[39;00m\n\u001b[1;32m----> 2\u001b[0m \u001b[43mpyemu\u001b[49m\u001b[38;5;241;43m.\u001b[39;49m\u001b[43mplot_utils\u001b[49m\u001b[38;5;241;43m.\u001b[39;49m\u001b[43mres_1to1\u001b[49m\u001b[43m(\u001b[49m\u001b[43mpst\u001b[49m\u001b[43m)\u001b[49m;\n",
      "File \u001b[1;32mD:\\spark\\spark_gits\\swatp_pst_wf\\dependencies\\pyemu\\pyemu\\plot\\plot_utils.py:332\u001b[0m, in \u001b[0;36mres_1to1\u001b[1;34m(pst, logger, filename, plot_hexbin, histogram, **kwargs)\u001b[0m\n\u001b[0;32m    330\u001b[0m         res \u001b[38;5;241m=\u001b[39m pst\u001b[38;5;241m.\u001b[39mres\n\u001b[0;32m    331\u001b[0m     \u001b[38;5;28;01mexcept\u001b[39;00m:\n\u001b[1;32m--> 332\u001b[0m         \u001b[43mlogger\u001b[49m\u001b[38;5;241;43m.\u001b[39;49m\u001b[43mlraise\u001b[49m\u001b[43m(\u001b[49m\u001b[38;5;124;43m\"\u001b[39;49m\u001b[38;5;124;43mres_phi_pie: pst.res is None, couldn\u001b[39;49m\u001b[38;5;124;43m'\u001b[39;49m\u001b[38;5;124;43mt find residuals file\u001b[39;49m\u001b[38;5;124;43m\"\u001b[39;49m\u001b[43m)\u001b[49m\n\u001b[0;32m    334\u001b[0m obs \u001b[38;5;241m=\u001b[39m pst\u001b[38;5;241m.\u001b[39mobservation_data\n\u001b[0;32m    336\u001b[0m \u001b[38;5;28;01mif\u001b[39;00m \u001b[38;5;124m\"\u001b[39m\u001b[38;5;124mgrouper\u001b[39m\u001b[38;5;124m\"\u001b[39m \u001b[38;5;129;01min\u001b[39;00m kwargs:\n",
      "File \u001b[1;32mD:\\spark\\spark_gits\\swatp_pst_wf\\dependencies\\pyemu\\pyemu\\logger.py:115\u001b[0m, in \u001b[0;36mLogger.lraise\u001b[1;34m(self, message)\u001b[0m\n\u001b[0;32m    113\u001b[0m     \u001b[38;5;28mself\u001b[39m\u001b[38;5;241m.\u001b[39mf\u001b[38;5;241m.\u001b[39mflush\n\u001b[0;32m    114\u001b[0m     \u001b[38;5;28mself\u001b[39m\u001b[38;5;241m.\u001b[39mf\u001b[38;5;241m.\u001b[39mclose()\n\u001b[1;32m--> 115\u001b[0m \u001b[38;5;28;01mraise\u001b[39;00m \u001b[38;5;167;01mException\u001b[39;00m(message)\n",
      "\u001b[1;31mException\u001b[0m: res_phi_pie: pst.res is None, couldn't find residuals file"
     ]
    }
   ],
   "source": [
    "# plot 1 to 1 scatter plot and residuals\n",
    "pyemu.plot_utils.res_1to1(pst);"
   ]
  },
  {
   "cell_type": "markdown",
   "metadata": {},
   "source": [
    "## 03.02 Predictive uncertainty"
   ]
  },
  {
   "cell_type": "code",
   "execution_count": null,
   "metadata": {},
   "outputs": [],
   "source": [
    "analyzer.single_plot_tseries_ensembles_plots_added(\n",
    "    pst, pr_oe, pt_oe, width=10, height=5, dot=False,\n",
    "    # bstcs=[\"56\", \"171\"], \n",
    "    # orgsim=org_sim\n",
    ")"
   ]
  },
  {
   "cell_type": "markdown",
   "metadata": {},
   "source": [
    "## 03.03 Parameter uncertainty"
   ]
  },
  {
   "cell_type": "code",
   "execution_count": 16,
   "metadata": {},
   "outputs": [],
   "source": [
    "prior_df = pyemu.ParameterEnsemble.from_csv(\n",
    "    pst=pst,filename=os.path.join(m_d,\"alb_rw_ies.{0}.par.csv\".format(0)))\n",
    "post_df = pyemu.ParameterEnsemble.from_csv(\n",
    "    pst=pst,filename=os.path.join(m_d,\"alb_rw_ies.{0}.par.csv\".format(8)))"
   ]
  },
  {
   "cell_type": "code",
   "execution_count": 17,
   "metadata": {},
   "outputs": [
    {
     "data": {
      "text/html": [
       "<div>\n",
       "<style scoped>\n",
       "    .dataframe tbody tr th:only-of-type {\n",
       "        vertical-align: middle;\n",
       "    }\n",
       "\n",
       "    .dataframe tbody tr th {\n",
       "        vertical-align: top;\n",
       "    }\n",
       "\n",
       "    .dataframe thead th {\n",
       "        text-align: right;\n",
       "    }\n",
       "</style>\n",
       "<table border=\"1\" class=\"dataframe\">\n",
       "  <thead>\n",
       "    <tr style=\"text-align: right;\">\n",
       "      <th></th>\n",
       "      <th>parnme</th>\n",
       "      <th>partrans</th>\n",
       "      <th>parchglim</th>\n",
       "      <th>parval1</th>\n",
       "      <th>parlbnd</th>\n",
       "      <th>parubnd</th>\n",
       "      <th>pargp</th>\n",
       "      <th>scale</th>\n",
       "      <th>offset</th>\n",
       "      <th>dercom</th>\n",
       "    </tr>\n",
       "  </thead>\n",
       "  <tbody>\n",
       "    <tr>\n",
       "      <th>0</th>\n",
       "      <td>alpha</td>\n",
       "      <td>log</td>\n",
       "      <td>factor</td>\n",
       "      <td>100</td>\n",
       "      <td>1</td>\n",
       "      <td>199</td>\n",
       "      <td>pargp</td>\n",
       "      <td>1</td>\n",
       "      <td>-100</td>\n",
       "      <td>1</td>\n",
       "    </tr>\n",
       "    <tr>\n",
       "      <th>1</th>\n",
       "      <td>awc</td>\n",
       "      <td>log</td>\n",
       "      <td>factor</td>\n",
       "      <td>100</td>\n",
       "      <td>1</td>\n",
       "      <td>199</td>\n",
       "      <td>pargp</td>\n",
       "      <td>1</td>\n",
       "      <td>-100</td>\n",
       "      <td>1</td>\n",
       "    </tr>\n",
       "    <tr>\n",
       "      <th>2</th>\n",
       "      <td>canmx</td>\n",
       "      <td>log</td>\n",
       "      <td>factor</td>\n",
       "      <td>100</td>\n",
       "      <td>1</td>\n",
       "      <td>199</td>\n",
       "      <td>pargp</td>\n",
       "      <td>1</td>\n",
       "      <td>-100</td>\n",
       "      <td>1</td>\n",
       "    </tr>\n",
       "    <tr>\n",
       "      <th>3</th>\n",
       "      <td>cn2</td>\n",
       "      <td>log</td>\n",
       "      <td>factor</td>\n",
       "      <td>100</td>\n",
       "      <td>1</td>\n",
       "      <td>199</td>\n",
       "      <td>pargp</td>\n",
       "      <td>1</td>\n",
       "      <td>-100</td>\n",
       "      <td>1</td>\n",
       "    </tr>\n",
       "    <tr>\n",
       "      <th>4</th>\n",
       "      <td>cn3_swf</td>\n",
       "      <td>log</td>\n",
       "      <td>factor</td>\n",
       "      <td>100</td>\n",
       "      <td>1</td>\n",
       "      <td>199</td>\n",
       "      <td>pargp</td>\n",
       "      <td>1</td>\n",
       "      <td>-100</td>\n",
       "      <td>1</td>\n",
       "    </tr>\n",
       "    <tr>\n",
       "      <th>5</th>\n",
       "      <td>epco</td>\n",
       "      <td>log</td>\n",
       "      <td>factor</td>\n",
       "      <td>100</td>\n",
       "      <td>1</td>\n",
       "      <td>199</td>\n",
       "      <td>pargp</td>\n",
       "      <td>1</td>\n",
       "      <td>-100</td>\n",
       "      <td>1</td>\n",
       "    </tr>\n",
       "    <tr>\n",
       "      <th>6</th>\n",
       "      <td>esco</td>\n",
       "      <td>log</td>\n",
       "      <td>factor</td>\n",
       "      <td>100</td>\n",
       "      <td>1</td>\n",
       "      <td>199</td>\n",
       "      <td>pargp</td>\n",
       "      <td>1</td>\n",
       "      <td>-100</td>\n",
       "      <td>1</td>\n",
       "    </tr>\n",
       "    <tr>\n",
       "      <th>7</th>\n",
       "      <td>lat_len</td>\n",
       "      <td>log</td>\n",
       "      <td>factor</td>\n",
       "      <td>100</td>\n",
       "      <td>1</td>\n",
       "      <td>199</td>\n",
       "      <td>pargp</td>\n",
       "      <td>1</td>\n",
       "      <td>-100</td>\n",
       "      <td>1</td>\n",
       "    </tr>\n",
       "    <tr>\n",
       "      <th>8</th>\n",
       "      <td>latq_co</td>\n",
       "      <td>log</td>\n",
       "      <td>factor</td>\n",
       "      <td>100</td>\n",
       "      <td>1</td>\n",
       "      <td>199</td>\n",
       "      <td>pargp</td>\n",
       "      <td>1</td>\n",
       "      <td>-100</td>\n",
       "      <td>1</td>\n",
       "    </tr>\n",
       "    <tr>\n",
       "      <th>9</th>\n",
       "      <td>perco</td>\n",
       "      <td>log</td>\n",
       "      <td>factor</td>\n",
       "      <td>100</td>\n",
       "      <td>1</td>\n",
       "      <td>199</td>\n",
       "      <td>pargp</td>\n",
       "      <td>1</td>\n",
       "      <td>-100</td>\n",
       "      <td>1</td>\n",
       "    </tr>\n",
       "    <tr>\n",
       "      <th>10</th>\n",
       "      <td>petco</td>\n",
       "      <td>log</td>\n",
       "      <td>factor</td>\n",
       "      <td>100</td>\n",
       "      <td>1</td>\n",
       "      <td>199</td>\n",
       "      <td>pargp</td>\n",
       "      <td>1</td>\n",
       "      <td>-100</td>\n",
       "      <td>1</td>\n",
       "    </tr>\n",
       "    <tr>\n",
       "      <th>11</th>\n",
       "      <td>revap_co</td>\n",
       "      <td>log</td>\n",
       "      <td>factor</td>\n",
       "      <td>100</td>\n",
       "      <td>1</td>\n",
       "      <td>199</td>\n",
       "      <td>pargp</td>\n",
       "      <td>1</td>\n",
       "      <td>-100</td>\n",
       "      <td>1</td>\n",
       "    </tr>\n",
       "    <tr>\n",
       "      <th>12</th>\n",
       "      <td>surlag</td>\n",
       "      <td>log</td>\n",
       "      <td>factor</td>\n",
       "      <td>100</td>\n",
       "      <td>1</td>\n",
       "      <td>199</td>\n",
       "      <td>pargp</td>\n",
       "      <td>1</td>\n",
       "      <td>-100</td>\n",
       "      <td>1</td>\n",
       "    </tr>\n",
       "  </tbody>\n",
       "</table>\n",
       "</div>"
      ],
      "text/plain": [
       "      parnme partrans parchglim  parval1  parlbnd  parubnd  pargp  scale  \\\n",
       "0      alpha      log    factor      100        1      199  pargp      1   \n",
       "1        awc      log    factor      100        1      199  pargp      1   \n",
       "2      canmx      log    factor      100        1      199  pargp      1   \n",
       "3        cn2      log    factor      100        1      199  pargp      1   \n",
       "4    cn3_swf      log    factor      100        1      199  pargp      1   \n",
       "5       epco      log    factor      100        1      199  pargp      1   \n",
       "6       esco      log    factor      100        1      199  pargp      1   \n",
       "7    lat_len      log    factor      100        1      199  pargp      1   \n",
       "8    latq_co      log    factor      100        1      199  pargp      1   \n",
       "9      perco      log    factor      100        1      199  pargp      1   \n",
       "10     petco      log    factor      100        1      199  pargp      1   \n",
       "11  revap_co      log    factor      100        1      199  pargp      1   \n",
       "12    surlag      log    factor      100        1      199  pargp      1   \n",
       "\n",
       "    offset  dercom  \n",
       "0     -100       1  \n",
       "1     -100       1  \n",
       "2     -100       1  \n",
       "3     -100       1  \n",
       "4     -100       1  \n",
       "5     -100       1  \n",
       "6     -100       1  \n",
       "7     -100       1  \n",
       "8     -100       1  \n",
       "9     -100       1  \n",
       "10    -100       1  \n",
       "11    -100       1  \n",
       "12    -100       1  "
      ]
     },
     "execution_count": 17,
     "metadata": {},
     "output_type": "execute_result"
    }
   ],
   "source": [
    "df_pars = pd.read_csv(os.path.join(m_d, \"alb_rw_ies.par_data.csv\"))\n",
    "sel_pars = df_pars.loc[df_pars[\"partrans\"]=='log']\n",
    "sel_pars"
   ]
  },
  {
   "cell_type": "code",
   "execution_count": 34,
   "metadata": {},
   "outputs": [
    {
     "data": {
      "image/png": "[encoded data removed]",
      "text/plain": [
       "<Figure size 700x700 with 16 Axes>"
      ]
     },
     "metadata": {},
     "output_type": "display_data"
    },
    {
     "name": "stdout",
     "output_type": "stream",
     "text": [
      "D:\\spark\\spark_gits\\swatp_pst_wf\\notebooks\\02_workflows\n"
     ]
    }
   ],
   "source": [
    "analyzer.plot_prior_posterior_par_hist(m_d, pst, prior_df, post_df, sel_pars, height=7)"
   ]
  },
  {
   "cell_type": "markdown",
   "metadata": {},
   "source": [
    "# 04 updates the model input files with parameter values"
   ]
  },
  {
   "cell_type": "code",
   "execution_count": null,
   "metadata": {},
   "outputs": [],
   "source": [
    "m_d = \"D:\\\\jj\\\\opt_3rd\\\\calibrated\"\n",
    "pst_file = \"alb_rw_ies.pst\"\n",
    "pst = pyemu.Pst(os.path.join(m_d, pst_file))"
   ]
  },
  {
   "cell_type": "code",
   "execution_count": null,
   "metadata": {},
   "outputs": [],
   "source": [
    "pst.parrep(parfile=os.path.join(m_d, \"alb_rw_ies.{0}.base.par\".format(\"final\")))\n",
    "# updates the model input files with parameter values\n",
    "pst.write_input_files(pst_path=m_d)\n",
    "# run the model forward run; this applies all the SWAT+ paarameters, executes SWAT+ \n",
    "os.chdir(m_d)\n",
    "pyemu.os_utils.run('python forward_run.py')"
   ]
  },
  {
   "cell_type": "code",
   "execution_count": null,
   "metadata": {},
   "outputs": [],
   "source": [
    "pyemu.os_utils.run(\"python forward_run.py\",cwd=m_d)"
   ]
  }
 ],
 "metadata": {
  "kernelspec": {
   "display_name": "Python 3 (ipykernel)",
   "language": "python",
   "name": "python3"
  },
  "language_info": {
   "codemirror_mode": {
    "name": "ipython",
    "version": 3
   },
   "file_extension": ".py",
   "mimetype": "text/x-python",
   "name": "python",
   "nbconvert_exporter": "python",
   "pygments_lexer": "ipython3",
   "version": "3.13.5"
  }
 },
 "nbformat": 4,
 "nbformat_minor": 4
}
